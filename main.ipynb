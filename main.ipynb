{
 "cells": [
  {
   "cell_type": "markdown",
   "id": "1a1c519b",
   "metadata": {},
   "source": [
    "## Preprocessing"
   ]
  },
  {
   "cell_type": "markdown",
   "id": "4a03b45c",
   "metadata": {},
   "source": [
    "#### paste following lines into anaconda prompt (as admin) and press enter: \n",
    "#### conda install -c huggingface -c conda-forge datasets\n",
    "#### conda install -c anaconda gensim\n",
    "#### conda install -c anaconda seaborn\n"
   ]
  },
  {
   "cell_type": "code",
   "execution_count": 211,
   "id": "be193bd7",
   "metadata": {},
   "outputs": [],
   "source": [
    "from datasets import load_dataset\n",
    "import pandas as pd\n",
    "import matplotlib.pyplot as plt\n",
    "import numpy as np\n",
    "import re, string, nltk\n",
    "from nltk.tokenize import word_tokenize\n",
    "from nltk.corpus import stopwords\n",
    "from nltk.corpus import wordnet\n",
    "from nltk.stem import WordNetLemmatizer\n",
    "from gensim.models import Word2Vec, FastText\n",
    "from sklearn.feature_extraction.text import TfidfVectorizer, CountVectorizer\n",
    "from sklearn.model_selection import train_test_split, cross_val_score, StratifiedKFold, GridSearchCV\n",
    "from sklearn.neighbors import KNeighborsClassifier\n",
    "from sklearn.tree import DecisionTreeClassifier\n",
    "from sklearn.naive_bayes import MultinomialNB\n",
    "from sklearn.naive_bayes import GaussianNB\n",
    "from sklearn.svm import SVC\n",
    "from sklearn.neural_network import MLPClassifier\n",
    "from sklearn.ensemble import RandomForestClassifier\n",
    "from imblearn.under_sampling import RandomUnderSampler\n",
    "from scipy import sparse\n",
    "\n",
    "\n",
    "\n",
    "from sklearn.metrics import accuracy_score\n",
    "from sklearn.metrics import roc_auc_score\n",
    "from sklearn.metrics import classification_report\n",
    "from sklearn.metrics import roc_curve\n",
    "from sklearn.metrics import precision_recall_curve\n",
    "from sklearn.metrics import auc\n",
    "from sklearn.metrics import confusion_matrix\n",
    "from sklearn import metrics\n",
    "import seaborn as sns\n"
   ]
  },
  {
   "cell_type": "markdown",
   "id": "235bdb01",
   "metadata": {},
   "source": [
    "# Train test split and class distribution"
   ]
  },
  {
   "cell_type": "code",
   "execution_count": 2,
   "id": "d03c42a2",
   "metadata": {},
   "outputs": [
    {
     "name": "stderr",
     "output_type": "stream",
     "text": [
      "[nltk_data] Downloading package wordnet to\n",
      "[nltk_data]     C:\\Users\\malte\\AppData\\Roaming\\nltk_data...\n",
      "[nltk_data]   Package wordnet is already up-to-date!\n",
      "[nltk_data] Downloading package stopwords to\n",
      "[nltk_data]     C:\\Users\\malte\\AppData\\Roaming\\nltk_data...\n",
      "[nltk_data]   Package stopwords is already up-to-date!\n",
      "[nltk_data] Downloading package punkt to\n",
      "[nltk_data]     C:\\Users\\malte\\AppData\\Roaming\\nltk_data...\n",
      "[nltk_data]   Package punkt is already up-to-date!\n",
      "[nltk_data] Downloading package averaged_perceptron_tagger to\n",
      "[nltk_data]     C:\\Users\\malte\\AppData\\Roaming\\nltk_data...\n",
      "[nltk_data]   Package averaged_perceptron_tagger is already up-to-\n",
      "[nltk_data]       date!\n",
      "Using custom data configuration default\n",
      "Reusing dataset ag_news (C:\\Users\\malte\\.cache\\huggingface\\datasets\\ag_news\\default\\0.0.0\\bc2bcb40336ace1a0374767fc29bb0296cdaf8a6da7298436239c54d79180548)\n",
      "100%|██████████| 2/2 [00:00<00:00, 333.24it/s]\n"
     ]
    },
    {
     "data": {
      "image/png": "[encoded data removed]",
      "text/plain": [
       "<Figure size 720x360 with 2 Axes>"
      ]
     },
     "metadata": {
      "needs_background": "light"
     },
     "output_type": "display_data"
    }
   ],
   "source": [
    "nltk.download('wordnet')\n",
    "nltk.download('stopwords')\n",
    "nltk.download('punkt')\n",
    "nltk.download('averaged_perceptron_tagger')\n",
    "\n",
    "# train-test split\n",
    "dataset = load_dataset(\"ag_news\")\n",
    "train_df = pd.DataFrame(dataset['train'])\n",
    "test_df = pd.DataFrame(dataset['test'])\n",
    "del dataset\n",
    "\n",
    "def class_distribution():\n",
    "    \n",
    "    # checking class distribution\n",
    "    plt.figure(figsize=(10,5))\n",
    "\n",
    "    ## train data\n",
    "    plt.subplot(1,2,1)\n",
    "    train_df_target = train_df['label']\n",
    "    class_dist = pd.Series(train_df_target).value_counts()\n",
    "    plt.title('train_df')\n",
    "    plt.bar(class_dist.index, class_dist)\n",
    "    plt.tight_layout()\n",
    "\n",
    "    ## test data\n",
    "    plt.subplot(1,2,2)\n",
    "    test_df_target = test_df['label']\n",
    "    class_dist = pd.Series(test_df_target).value_counts()\n",
    "    plt.title('test_df')\n",
    "    plt.bar(class_dist.index, class_dist)\n",
    "    plt.tight_layout()\n",
    "\n",
    "    plt.show()\n",
    "\n",
    "def balanced_fractionize(df, frac):\n",
    "    \n",
    "    frac_df = df.sample(frac=frac, random_state=42)\n",
    "    frac_data, frac_target = frac_df['text'].values.reshape(-1, 1), frac_df['label'].values.reshape(-1, 1)\n",
    "    \n",
    "    sampler = RandomUnderSampler()\n",
    "    bal_frac_data, bal_frac_target = sampler.fit_resample(frac_data, frac_target)\n",
    "    \n",
    "    class_dist = pd.Series(bal_frac_target).value_counts()\n",
    "    plt.bar(class_dist.index, class_\n",
    "    \n",
    "    return pd.DataFrame(bal_frac_data, columns = ['text']), pd.DataFrame(bal_frac_target, columns = ['label'])\n",
    "\n",
    "class_distribution()dist)\n",
    "    plt.ylabel(\"Frequency\")\n",
    "    plt.show()"
   ]
  },
  {
   "cell_type": "code",
   "execution_count": 3,
   "id": "6d721d10",
   "metadata": {},
   "outputs": [],
   "source": [
    "#initialize stopwords and lemmatizer\n",
    "stop_words = set(stopwords.words('english'))\n",
    "wnl = WordNetLemmatizer()\n",
    "\n",
    "\n",
    "def preprocessing(text):\n",
    "    \n",
    "    # convert to lowercase and remove spaces at beginning and ending\n",
    "    text = text.lower().strip()\n",
    "    \n",
    "    # remove punctuation\n",
    "    text = re.compile('[%s]' % re.escape(string.punctuation)).sub(' ', text)\n",
    "    \n",
    "    # remove html code\n",
    "    text= re.sub('<.*?>', '', text) \n",
    "    \n",
    "    # remove special characters\n",
    "    text=re.sub(r'[^\\w\\s]', '', str(text).lower().strip())\n",
    "    \n",
    "    # remove digits\n",
    "    text = re.sub(r'\\d',' ',text)\n",
    "    \n",
    "    # replace multiple whitespaces with one\n",
    "    text = re.sub('\\s+', ' ', text)\n",
    "    \n",
    "    # stop word removal\n",
    "    clean_text = ' '.join([word for word in text.split() if word not in stop_words])\n",
    "    \n",
    "    # tonkenize & lemmatize\n",
    "    word_pos_tags = nltk.pos_tag(word_tokenize(clean_text)) # -> list of tuples (word, pos_tag) [('computer', 'NN'), ('word', 'tag')]\n",
    "    lem_text = ' '.join([wnl.lemmatize(tag[0], get_wordnet_pos(tag[1])) for tag in word_pos_tags])\n",
    "\n",
    "    return lem_text\n",
    "\n",
    " \n",
    "def get_wordnet_pos(tag):\n",
    "    if tag.startswith('J'):\n",
    "        return wordnet.ADJ\n",
    "    elif tag.startswith('V'):\n",
    "        return wordnet.VERB\n",
    "    elif tag.startswith('N'):\n",
    "        return wordnet.NOUN\n",
    "    elif tag.startswith('R'):\n",
    "        return wordnet.ADV\n",
    "    else:\n",
    "        # default pos\n",
    "        return wordnet.NOUN\n",
    "    \n"
   ]
  },
  {
   "cell_type": "code",
   "execution_count": null,
   "id": "d47b244a",
   "metadata": {},
   "outputs": [],
   "source": [
    "# execute preprocessing for training set\n",
    "train_df['text'] = train_df['text'].apply(lambda x: preprocessing(x))\n",
    "train_df.to_csv('training_data.csv', sep=';', encoding='utf-8', index=False)\n",
    "train_df.head()"
   ]
  },
  {
   "cell_type": "code",
   "execution_count": null,
   "id": "6374f45d",
   "metadata": {},
   "outputs": [],
   "source": [
    "# execute preprocessing for test set\n",
    "test_df['text'] = test_df['text'].apply(lambda x: preprocessing(x))\n",
    "test_df.to_csv('preprocessed_test_data.csv', sep=';', encoding='utf-8', index=False)\n",
    "test_df.head()"
   ]
  },
  {
   "cell_type": "markdown",
   "id": "ebf6fb62",
   "metadata": {},
   "source": [
    "# Vectorization"
   ]
  },
  {
   "cell_type": "markdown",
   "id": "a2bda4f8",
   "metadata": {},
   "source": [
    "## Reading in the preprocessed training data"
   ]
  },
  {
   "cell_type": "code",
   "execution_count": 228,
   "id": "a7b24275",
   "metadata": {},
   "outputs": [
    {
     "data": {
      "image/png": "[encoded data removed]",
      "text/plain": [
       "<Figure size 432x288 with 1 Axes>"
      ]
     },
     "metadata": {
      "needs_background": "light"
     },
     "output_type": "display_data"
    }
   ],
   "source": [
    "# read in preprocessed training data if necessary\n",
    "train_df = pd.read_csv('preprocessed_training_data.csv', sep=';', encoding='utf-8')\n",
    "\n",
    "train_df.loc[(train_df.label == 0),'label']='World'\n",
    "train_df.loc[(train_df.label == 1),'label']='Sports'\n",
    "train_df.loc[(train_df.label == 2),'label']='Business'\n",
    "train_df.loc[(train_df.label == 3),'label']='Sci/Tech'\n",
    "\n",
    "train_df['label']= train_df['label'].astype(str)\n",
    "\n",
    "\n",
    "#fractionize and undersample data\n",
    "train_data, train_target = balanced_fractionize(train_df, 0.1)\n",
    "\n",
    "#Tokenize\n",
    "def get_train_tokens(df_data):\n",
    "    return [word_tokenize(text) for text in df_data['text']]"
   ]
  },
  {
   "cell_type": "markdown",
   "id": "9387d88e",
   "metadata": {},
   "source": [
    "## Training the vectorizers on the training data"
   ]
  },
  {
   "cell_type": "markdown",
   "id": "30250b7d",
   "metadata": {},
   "source": [
    "### TF IDF & Count Vectors"
   ]
  },
  {
   "cell_type": "code",
   "execution_count": 181,
   "id": "9c62f350",
   "metadata": {},
   "outputs": [],
   "source": [
    "tf_count_std_parameters = {\n",
    "    'analyzer': 'word',\n",
    "    'max_features': 50000,\n",
    "    'ngram_range': (1,2)\n",
    "}\n",
    "\n",
    "# tf idf\n",
    "vectorizer = TfidfVectorizer()\n",
    "tf_idf_vectors = vectorizer.fit_transform(train_df['text'])"
   ]
  },
  {
   "cell_type": "code",
   "execution_count": null,
   "id": "73d30a36",
   "metadata": {},
   "outputs": [],
   "source": [
    "# count\n",
    "vectorizer = CountVectorizer(**tf_count_std_parameters)\n",
    "count_vectors = vectorizer.fit_transform(train_df['text'])"
   ]
  },
  {
   "cell_type": "markdown",
   "id": "7fc87a9f",
   "metadata": {},
   "source": [
    "### Word2Vec SkipGram & CBOW"
   ]
  },
  {
   "cell_type": "code",
   "execution_count": 184,
   "id": "385164dc",
   "metadata": {},
   "outputs": [],
   "source": [
    "\n",
    "wordEmbedding_std_parameters = {\n",
    "    'window': 5,\n",
    "    'vector_size': 200,\n",
    "    'min_count': 5\n",
    "}\n",
    "\n",
    "# get tokens\n",
    "tokens = get_train_tokens(train_df)\n",
    "\n",
    "# Train the models on the training data once\n",
    "\n",
    "w2v_cbow = Word2Vec(tokens, **wordEmbedding_std_parameters)\n",
    "w2v_skipg = Word2Vec(tokens, **wordEmbedding_std_parameters, sg = 1)"
   ]
  },
  {
   "cell_type": "code",
   "execution_count": null,
   "id": "2ba87c27",
   "metadata": {},
   "outputs": [],
   "source": [
    "w2v_cbow.save(\"test.model\")"
   ]
  },
  {
   "cell_type": "markdown",
   "id": "20988705",
   "metadata": {},
   "source": [
    "### fastText"
   ]
  },
  {
   "cell_type": "code",
   "execution_count": 185,
   "id": "02f27af6",
   "metadata": {},
   "outputs": [
    {
     "data": {
      "text/plain": [
       "(29761288, 31006020)"
      ]
     },
     "execution_count": 185,
     "metadata": {},
     "output_type": "execute_result"
    }
   ],
   "source": [
    "# train model once on the training data\n",
    "fasttext = FastText(**wordEmbedding_std_parameters)\n",
    "fasttext.build_vocab(corpus_iterable=tokens)\n",
    "fasttext.train(corpus_iterable=tokens, total_examples=len(tokens), epochs=10)"
   ]
  },
  {
   "cell_type": "markdown",
   "id": "3a43b149",
   "metadata": {},
   "source": [
    "### GloVe"
   ]
  },
  {
   "cell_type": "code",
   "execution_count": 214,
   "id": "a55d33d9",
   "metadata": {},
   "outputs": [],
   "source": [
    "# write content into file\n",
    "# with open('corpus.txt', 'w') as f:\n",
    "#     for text in train_df['text'].tolist():\n",
    "#         f.write(text + '\\n')\n",
    "# train vectors with https://github.com/stanfordnlp/GloVe with standard parameters (window=5, size=200, MIN_COUNT=5)"
   ]
  },
  {
   "cell_type": "code",
   "execution_count": 215,
   "id": "34b968dd",
   "metadata": {},
   "outputs": [],
   "source": [
    "# get the vocab and the vectors after training, vectors uploaded to Git were trained with 0.2 percent of the data\n",
    "vocab = []\n",
    "vectors = {}\n",
    "with open('vocab.txt') as f:\n",
    "    for ln in f:\n",
    "        words = ln.split()\n",
    "        vocab = vocab + words[:1]\n",
    "with open('vectors.txt') as f:\n",
    "    for ln in f:\n",
    "        word = ln.split()[0]\n",
    "        vector = [float(number) for number in ln.split()[1:]]\n",
    "        vectors[word] = vector"
   ]
  },
  {
   "cell_type": "markdown",
   "id": "88d47b5b",
   "metadata": {},
   "source": [
    "## Functions for getting the vectors for a given data set"
   ]
  },
  {
   "cell_type": "code",
   "execution_count": 216,
   "id": "eb9c4bab",
   "metadata": {},
   "outputs": [],
   "source": [
    "def get_tfid_vectors(df_data):\n",
    "    return vectorizer.transform(df_data['text'])\n",
    "\n",
    "def get_count_vectors(df_data):\n",
    "    return vectorizer.transform(df_data['text'])\n",
    "\n",
    "# returns mean vector for list of specified words\n",
    "def get_embedding(model, text):\n",
    "    existing_words = [word for word in text if word in list(model.wv.index_to_key)]\n",
    "    if existing_words:\n",
    "        embedding = np.zeros((len(existing_words), model.vector_size), dtype=np.float32)\n",
    "        for i, w in enumerate(existing_words):\n",
    "                embedding[i] = model.wv[w]\n",
    "        return np.mean(embedding, axis=0)\n",
    "    else:\n",
    "        return np.zeros(model.vector_size)\n",
    "\n",
    "    \n",
    "# get the embeddings of the trained model for the tokens\n",
    "def get_w2v_cbow_embeddings(tokens):\n",
    "    return np.array([get_embedding(w2v_cbow, text) for text in tokens])\n",
    "\n",
    "# get the embeddings of the trained model for the tokens\n",
    "def get_w2v_skipg_embeddings(tokens):\n",
    "    return np.array([get_embedding(w2v_skipg, text) for text in tokens])\n",
    "\n",
    "def get_fasttext_embeddings(tokens):\n",
    "    return np.array([get_embedding(fasttext, text) for text in tokens])\n",
    "\n",
    "def get_glove_document_vector(text, vocab, vectors, vector_size):\n",
    "    existing_words = [word for word in text if word in vocab]\n",
    "    if existing_words:\n",
    "        embedding = np.zeros((len(existing_words), vector_size), dtype=np.float32)\n",
    "        for i, w in enumerate(existing_words):\n",
    "                embedding[i] = vectors[w]\n",
    "        return np.mean(embedding, axis=0)\n",
    "    else:\n",
    "        return np.zeros(model.vector_size)\n",
    "    \n",
    "\n",
    "# needs tokens from same fraction of training data as the GloVe embeddings were trained with\n",
    "def get_glove_embeddings(tokens):\n",
    "    return np.array([get_glove_document_vector(text, vocab, vectors, len(vector)) for text in tokens])"
   ]
  },
  {
   "cell_type": "markdown",
   "id": "cde02a66",
   "metadata": {},
   "source": [
    "# Vectorizer Names & Get_vectorMatrix"
   ]
  },
  {
   "cell_type": "code",
   "execution_count": 220,
   "id": "75fd3616",
   "metadata": {},
   "outputs": [],
   "source": [
    "vectorizer_names = [\"tfidf_vectors\", \"count_vectors\", \"w2v_cbow\", \"w2v_skipg\", \"fasttext\", \"GloVe\"]\n",
    "\n",
    "#returns vector-matrix with specified vectorizer on specified data\n",
    "def get_vectorMatrix(vectorizer_name, df_data):\n",
    "    for vectorizer_name in vectorizer_names:\n",
    "        \n",
    "        if vectorizer_name == \"tfidf_vectors\":\n",
    "            return get_tfid_vectors(df_data)\n",
    "        \n",
    "        elif vectorizer_name == \"count_vectors\":\n",
    "            return get_count_vectors(df_data)\n",
    "            \n",
    "        elif vectorizer_name == \"w2v_cbow\":\n",
    "            train_tokens = get_train_tokens(df_data)\n",
    "            return get_w2v_cbow_embeddings(train_tokens)\n",
    "            \n",
    "            \n",
    "        elif vectorizer_name == \"w2v_skipg\":\n",
    "            train_tokens = get_train_tokens(df_data)\n",
    "            return get_w2v_skipg_embeddings(train_tokens)\n",
    "            \n",
    "        elif vectorizer_name == \"fasttext\":\n",
    "            train_tokens = get_train_tokens(df_data)\n",
    "            return get_fasttext_embeddings(train_tokens, wordEmbedding_std_parameters)\n",
    "            \n",
    "        elif vectorizer_name == \"GloVe\":\n",
    "            train_tokens = get_train_tokens(df_data)\n",
    "            return get_glove_embeddings(train_tokens)"
   ]
  },
  {
   "cell_type": "markdown",
   "id": "a48028ba",
   "metadata": {},
   "source": [
    "## Classification"
   ]
  },
  {
   "cell_type": "markdown",
   "id": "389aca43",
   "metadata": {},
   "source": [
    "### Hyperparameter Tuning"
   ]
  },
  {
   "cell_type": "code",
   "execution_count": 221,
   "id": "ab54ba4c",
   "metadata": {},
   "outputs": [],
   "source": [
    "from sklearn.model_selection import KFold\n",
    "from sklearn.metrics import accuracy_score\n",
    "from numpy import mean\n",
    "from numpy import std\n",
    "\n",
    "# hyperparameter tuning\n",
    "def param_search(vector_matrix, vector_matrix_name, estimator):\n",
    "    \n",
    "    estimator_name = estimator['name']\n",
    "    parameters = estimator['parameters']\n",
    "    estimator = estimator['estimator']\n",
    "    \n",
    "    # configure the cross-validation procedure\n",
    "    cv_outer = StratifiedKFold(n_splits=3, shuffle=True, random_state=42)\n",
    "    \n",
    "    # enumerate splits\n",
    "    outer_results = list()\n",
    "    X = vector_matrix\n",
    "    y = train_target['label']\n",
    "    \n",
    "    for train_ix, test_ix in cv_outer.split(X,y):\n",
    "        \n",
    "        # split data\n",
    "        X_train, X_test = X[train_ix, :], X[test_ix, :]\n",
    "        y_train, y_test = y[train_ix], y[test_ix]\n",
    "    \n",
    "        # specify the nested cross validation\n",
    "        nested_cv = StratifiedKFold(n_splits=2, shuffle=True, random_state=42)\n",
    "\n",
    "        # create the grid search instance\n",
    "        search = GridSearchCV(estimator, parameters, scoring='accuracy', cv=nested_cv, n_jobs=-1, refit=True)\n",
    "        \n",
    "        # execute search\n",
    "        result = search.fit(vector_matrix, train_target['label'])\n",
    "        \n",
    "        # get the best performing model fit on the whole training set\n",
    "        best_model = result.best_estimator_\n",
    "        \n",
    "        # evaluate model on the hold out dataset\n",
    "        predictions = best_model.predict(X_test)\n",
    "        \n",
    "        # evaluate the model\n",
    "        acc = accuracy_score(y_test, predictions)\n",
    "        \n",
    "        # store the result\n",
    "        outer_results.append(acc)\n",
    "        \n",
    "        # report progress\n",
    "        print('>acc=%.3f, est=%.3f, cfg=%s' % (acc, result.best_score_, result.best_params_))\n",
    "        \n",
    "    # summarize the estimated performance of the model\n",
    "    accuracy_mean = np.mean(outer_results)\n",
    "    \n",
    "    #print the best parameter setting\n",
    "    print(\"Classifier: {}\".format(estimator_name))\n",
    "    print(\"Vectorizer: {}\".format(vector_matrix_name))\n",
    "    print(\"Mean Accuracy: {}\".format(accuracy_mean))\n",
    "    print()\n",
    "    \n",
    "    return accuracy_mean, best_model"
   ]
  },
  {
   "cell_type": "code",
   "execution_count": 229,
   "id": "41b585e2",
   "metadata": {},
   "outputs": [
    {
     "name": "stdout",
     "output_type": "stream",
     "text": [
      ">acc=0.894, est=0.855, cfg={'n_neighbors': 15}\n",
      ">acc=0.883, est=0.855, cfg={'n_neighbors': 15}\n",
      ">acc=0.892, est=0.855, cfg={'n_neighbors': 15}\n",
      "Classifier: KNeighborsClassifier\n",
      "Vectorizer: tfidf_vectors\n",
      "Mean Accuracy: 0.8894308053071546\n",
      "\n",
      ">acc=0.894, est=0.855, cfg={'n_neighbors': 15}\n",
      ">acc=0.883, est=0.855, cfg={'n_neighbors': 15}\n",
      ">acc=0.892, est=0.855, cfg={'n_neighbors': 15}\n",
      "Classifier: KNeighborsClassifier\n",
      "Vectorizer: count_vectors\n",
      "Mean Accuracy: 0.8894308053071546\n",
      "\n",
      ">acc=0.907, est=0.881, cfg={'n_neighbors': 10}\n",
      ">acc=0.899, est=0.881, cfg={'n_neighbors': 10}\n",
      ">acc=0.906, est=0.881, cfg={'n_neighbors': 10}\n",
      "Classifier: KNeighborsClassifier\n",
      "Vectorizer: w2v_cbow\n",
      "Mean Accuracy: 0.9041565791454057\n",
      "\n",
      ">acc=0.907, est=0.892, cfg={'n_neighbors': 15}\n",
      ">acc=0.905, est=0.892, cfg={'n_neighbors': 15}\n",
      ">acc=0.913, est=0.892, cfg={'n_neighbors': 15}\n",
      "Classifier: KNeighborsClassifier\n",
      "Vectorizer: w2v_skipg\n",
      "Mean Accuracy: 0.9083642920460014\n",
      "\n",
      ">acc=0.902, est=0.872, cfg={'n_neighbors': 10}\n",
      ">acc=0.901, est=0.872, cfg={'n_neighbors': 10}\n",
      ">acc=0.897, est=0.872, cfg={'n_neighbors': 10}\n",
      "Classifier: KNeighborsClassifier\n",
      "Vectorizer: fasttext\n",
      "Mean Accuracy: 0.8998652009371364\n",
      "\n",
      ">acc=0.896, est=0.872, cfg={'n_neighbors': 15}\n",
      ">acc=0.891, est=0.872, cfg={'n_neighbors': 15}\n",
      ">acc=0.894, est=0.872, cfg={'n_neighbors': 15}\n",
      "Classifier: KNeighborsClassifier\n",
      "Vectorizer: GloVe\n",
      "Mean Accuracy: 0.8934700193791708\n",
      "\n",
      "\n",
      "The best performance is reached with the estimator KNeighborsClassifier and the vectorizer w2v_skipg with an accuracy of 0.9083642920460014\n"
     ]
    }
   ],
   "source": [
    "# tune for the best vectorizer-estimator combination\n",
    "def hyper_tune():\n",
    "    \n",
    "    kNeighbors_parameters = {\n",
    "        'n_neighbors': [10, 15] #list(range(10,15))\n",
    "    }\n",
    "    \n",
    "    decisionTree_parameters = {\n",
    "        'criterion':['gini', 'entropy'], \n",
    "        'max_depth': [40,60,80,100],\n",
    "        'min_samples_split' : list(range(20,30,2))\n",
    "    }\n",
    "    \n",
    "    \n",
    "    MultinomialNB_parameters = {\n",
    "        'fit_prior': (True, False),\n",
    "        'alpha': [0.0001,0.001,0.01,0.1]        \n",
    "\n",
    "    }\n",
    "    \n",
    "    GaussianNB_parameters = {       \n",
    "\n",
    "    }\n",
    "    \n",
    "    svc_parameters = {\n",
    "        'C': [0.1, 1.0, 10.0],\n",
    "        'gamma': ['auto', 'scale'],\n",
    "        'kernel': ['rbf', 'poly', 'sigmoid'],\n",
    "        'degree' : [3,4,5,6]\n",
    "    }\n",
    "    \n",
    "    mlpClassifier_parameters = {\n",
    "        'learning_rate': ['constant', 'adaptive'],\n",
    "        'activation': ['tanh', 'relu'],\n",
    "        'solver': ['sgd', 'adam'],\n",
    "        'hidden_layer_sizes':[120,130,140]\n",
    "    }\n",
    "    \n",
    "    rfc_parameters = {\n",
    "        'max_depth': list(range(40,90,10)), \n",
    "        'max_features': ['sqrt'],\n",
    "        'n_estimators':list(range(130,140,2))\n",
    "    } \n",
    "    \n",
    "\n",
    "    \n",
    "    # ------ VECTORIZERS ------\n",
    "    train_tokens = get_train_tokens(train_data)\n",
    "    \n",
    "    #TODO: add the other matrices, when done\n",
    "    vectorizer_values = [\n",
    "         get_tfid_vectors(train_data), get_count_vectors(train_data),\n",
    "         get_w2v_cbow_embeddings(train_tokens), get_w2v_skipg_embeddings(train_tokens),\n",
    "         get_fasttext_embeddings(train_tokens),get_glove_embeddings(train_tokens)\n",
    "    ]\n",
    "    \n",
    "    vectorizer_names = [\"tfidf_vectors\", \"count_vectors\", \"w2v_cbow\", \"w2v_skipg\", \"fasttext\",\"GloVe\"]\n",
    "    vectorizers = dict(zip(vectorizer_names, vectorizer_values))\n",
    "    \n",
    "    del train_tokens\n",
    "    \n",
    "    # ------ ESTIMATORS ------\n",
    "    #TODO: add more estimators\n",
    "    estimators = {\n",
    "        'KNeighborsClassifier': { 'name': 'KNeighborsClassifier', 'estimator': KNeighborsClassifier(), 'parameters': kNeighbors_parameters },\n",
    "       # 'DecisionTreeClassifier': { 'name': 'DecisionTreeClassifier', 'estimator': DecisionTreeClassifier(), 'parameters': decisionTree_parameters },\n",
    "       # 'MultinomialNB': { 'name': 'MultinomialNB', 'estimator': MultinomialNB(), 'parameters': MultinomialNB_parameters },\n",
    "       # 'GaussianNB': { 'name': 'GaussianNB', 'estimator': GaussianNB(), 'parameters': GaussianNB_parameters },\n",
    "       # 'SVC': { 'name': 'SVC', 'estimator': SVC(), 'parameters': svc_parameters },\n",
    "       # 'MLPClassifier': { 'name': 'MLPClassifier', 'estimator': MLPClassifier(), 'parameters': mlpClassifier_parameters },\n",
    "      #  'RandomForestClassifier': { 'name': 'RandomForestClassifier', 'estimator': RandomForestClassifier(), 'parameters': rfc_parameters }\n",
    "\n",
    "    }\n",
    "    \n",
    "    best_score = 0\n",
    "    for vectorizer in vectorizers:\n",
    "        for estimator in estimators:\n",
    "            \n",
    "            score, model = param_search( vectorizers[vectorizer], vectorizer, estimators[estimator] )\n",
    "            if score > best_score:\n",
    "                best_score = score\n",
    "                best_estimator_name = estimator\n",
    "                best_vectorizer_name = vectorizer\n",
    "                best_model = model\n",
    "\n",
    "    print(\"\\nThe best performance is reached with the estimator \" + best_estimator_name + \" and the vectorizer \" + best_vectorizer_name + \" with an accuracy of \" + str(best_score) )\n",
    "    return best_model, best_vectorizer_name, vectorizers\n",
    "\n",
    "\n",
    "#the best performing model and vectorizer\n",
    "model, vectorizer_name, vectorizers = hyper_tune()"
   ]
  },
  {
   "cell_type": "markdown",
   "id": "699fbe9d",
   "metadata": {},
   "source": [
    "# Evaluation"
   ]
  },
  {
   "cell_type": "code",
   "execution_count": 230,
   "id": "895864c1-3117-4e07-b3da-9150f929d963",
   "metadata": {},
   "outputs": [
    {
     "data": {
      "image/png": "[encoded data removed]",
      "text/plain": [
       "<Figure size 432x288 with 1 Axes>"
      ]
     },
     "metadata": {
      "needs_background": "light"
     },
     "output_type": "display_data"
    }
   ],
   "source": [
    "# read in preprocessed test data if necessary\n",
    "test_df = pd.read_csv('preprocessed_test_data.csv', sep=';', encoding='utf-8')\n",
    "\n",
    "test_df.loc[(test_df.label == 0),'label']='World'\n",
    "test_df.loc[(test_df.label == 1),'label']='Sports'\n",
    "test_df.loc[(test_df.label == 2),'label']='Business'\n",
    "test_df.loc[(test_df.label == 3),'label']='Sci/Tech'\n",
    "\n",
    "test_df['label']= test_df['label'].astype(str)\n",
    "\n",
    "#fractionize and undersample data\n",
    "test_data, test_target = balanced_fractionize(test_df, 1.0)\n"
   ]
  },
  {
   "cell_type": "code",
   "execution_count": 231,
   "id": "02d44f4e",
   "metadata": {},
   "outputs": [
    {
     "name": "stdout",
     "output_type": "stream",
     "text": [
      "model trained\n",
      "predictions done\n"
     ]
    }
   ],
   "source": [
    "#Train the model\n",
    "def train_model(df_data, df_target, vectorizer_name):\n",
    "    return model.fit(get_vectorMatrix(vectorizer_name, train_data), df_target['label'])\n",
    "\n",
    "\n",
    "#make predictions\n",
    "def predict(train_data, train_target, vectorizer_name):\n",
    "    \n",
    "    #get the trained model\n",
    "    model = train_model(train_data, train_target, vectorizer_name)\n",
    "    print(\"model trained\")\n",
    "\n",
    "    return model.predict(get_vectorMatrix(vectorizer_name, test_data)), model.predict_proba(get_vectorMatrix(vectorizer_name, test_data))\n",
    "\n",
    "\n",
    "predictions, probs = predict(train_data, train_target, vectorizer_name)\n",
    "print(\"predictions done\")"
   ]
  },
  {
   "cell_type": "code",
   "execution_count": 232,
   "id": "333a5ae0",
   "metadata": {},
   "outputs": [
    {
     "name": "stdout",
     "output_type": "stream",
     "text": [
      "0.865\n",
      "Model\n",
      "Accuracy: 0.86\n",
      "Auc: 0.97\n",
      "Detail:\n",
      "              precision    recall  f1-score   support\n",
      "\n",
      "    Business       0.82      0.82      0.82      1900\n",
      "    Sci/Tech       0.84      0.84      0.84      1900\n",
      "      Sports       0.93      0.92      0.93      1900\n",
      "       World       0.88      0.87      0.88      1900\n",
      "\n",
      "    accuracy                           0.86      7600\n",
      "   macro avg       0.87      0.86      0.87      7600\n",
      "weighted avg       0.87      0.86      0.87      7600\n",
      "\n"
     ]
    },
    {
     "data": {
      "image/png": "[encoded data removed]",
      "text/plain": [
       "<Figure size 432x288 with 1 Axes>"
      ]
     },
     "metadata": {
      "needs_background": "light"
     },
     "output_type": "display_data"
    },
    {
     "data": {
      "image/png": "[encoded data removed]",
      "text/plain": [
       "<Figure size 1080x360 with 2 Axes>"
      ]
     },
     "metadata": {
      "needs_background": "light"
     },
     "output_type": "display_data"
    }
   ],
   "source": [
    "classes = np.unique(test_target)\n",
    "\n",
    "# evaluate the model\n",
    "acc = accuracy_score(test_target, predictions)\n",
    "print(acc)\n",
    "\n",
    "accuracy = accuracy_score(test_target['label'].to_numpy(), predictions)\n",
    "auc_score = roc_auc_score(test_target['label'].to_numpy(), probs, multi_class=\"ovr\")\n",
    "print(\"Model\")\n",
    "print(\"Accuracy:\",  round(accuracy,2))\n",
    "print(\"Auc:\", round(auc_score,2))\n",
    "print(\"Detail:\")\n",
    "print(classification_report(test_target, predictions))\n",
    "\n",
    "## Plot confusion matrix\n",
    "cm = confusion_matrix(test_target, predictions)\n",
    "fig, ax = plt.subplots()\n",
    "sns.heatmap(cm, annot=True, fmt='d', ax=ax, cmap=plt.cm.Blues, \n",
    "            cbar=False)\n",
    "ax.set(xlabel=\"Pred\", ylabel=\"True\", xticklabels=classes, \n",
    "       yticklabels=classes, title=\"Confusion matrix\")\n",
    "plt.yticks(rotation=0)\n",
    "\n",
    "fig, ax = plt.subplots(nrows=1, ncols=2)\n",
    "\n",
    "## Plot roc\n",
    "for i in range(len(classes)):\n",
    "    fpr, tpr, thresholds = roc_curve(test_target['label'].to_numpy(),  \n",
    "                           probs[:,i], pos_label=classes[i])\n",
    "    ax[0].plot(fpr, tpr, lw=3, \n",
    "              label='{0} (area={1:0.2f})'.format(classes[i], \n",
    "                              metrics.auc(fpr, tpr))\n",
    "               )\n",
    "ax[0].plot([0,1], [0,1], color='navy', lw=3, linestyle='--')\n",
    "ax[0].set(xlim=[-0.05,1.0], ylim=[0.0,1.05], \n",
    "          xlabel='False Positive Rate', \n",
    "          ylabel=\"True Positive Rate (Recall)\", \n",
    "          title=\"Receiver operating characteristic\")\n",
    "ax[0].legend(loc=\"lower right\")\n",
    "ax[0].grid(True)\n",
    "    \n",
    "## Plot precision-recall curve\n",
    "for i in range(len(classes)):\n",
    "    precision, recall, thresholds = precision_recall_curve(\n",
    "                 test_target['label'].to_numpy(), probs[:,i], pos_label=classes[i])\n",
    "    ax[1].plot(recall, precision, lw=3, \n",
    "               label='{0} (area={1:0.2f})'.format(classes[i], \n",
    "                                  metrics.auc(recall, precision))\n",
    "              )\n",
    "ax[1].set(xlim=[0.0,1.05], ylim=[0.0,1.05], xlabel='Recall', \n",
    "          ylabel=\"Precision\", title=\"Precision-Recall curve\")\n",
    "ax[1].legend(loc=\"best\")\n",
    "ax[1].grid(True)\n",
    "\n",
    "\n",
    "fig.set_figheight(5)\n",
    "fig.set_figwidth(15)\n",
    "plt.show()"
   ]
  },
  {
   "attachments": {
    "image.png": {
     "image/png": "[encoded data removed]"
    }
   },
   "cell_type": "markdown",
   "id": "1db35b5e",
   "metadata": {},
   "source": [
    "## Hyperparameter tuning for Vectorizors on a given classifier\n",
    "### approach https://pdfs.semanticscholar.org/d6e3/65ad12d9ba027a456ddea56bd7f8c060de8a.pdf\n",
    "![image.png](attachment:image.png)\n",
    "#### -> First train classifiers with vectorizers having standard parameters, then hypertune Vectorizors and train best classifier again with different different vectorizer settings\n",
    "#### GloVe is not included, since its trained in C"
   ]
  },
  {
   "cell_type": "code",
   "execution_count": null,
   "id": "de8402e6",
   "metadata": {},
   "outputs": [],
   "source": [
    "from sklearn.model_selection import ParameterGrid\n",
    "from sklearn.model_selection import train_test_split\n",
    "\n",
    "# vectorizer_name is one of the following 'w2v_cbow' / 'w2v_skipg' / 'fasttext' / 'tfidf_vectors' / 'count_vectors'\n",
    "# returns best parameter combination for vectorizer 'vectorizer_name' with given classifier\n",
    "def hypertuneVectorizor(estimator, vectorizer_name):\n",
    "    \n",
    "    best_acc = 0\n",
    "    best_model = {}\n",
    "    parameters = ParameterGrid({})\n",
    "    \n",
    "    \n",
    "    \n",
    "    if vectorizer_name == 'tfidf_vectors' or vectorizer_name == 'count_vectors':\n",
    "        \n",
    "        parameters = ParameterGrid({\n",
    "        'ngram_range': [(1,1), (1,2)], #[(1,1), (1,2), (2,2)]\n",
    "        'max_features': [50000, 100000], #[None, 15000, 25000, 50000, 100000, 200000, 400000]\n",
    "        'min_df': [2, 5]\n",
    "        })\n",
    "        \n",
    "        X_train, X_test, y_train, y_test = train_test_split(train_data, train_target['label'], test_size=0.2, random_state=0)\n",
    "        \n",
    "    else:\n",
    "        \n",
    "        parameters = ParameterGrid({\n",
    "        'min_count': [2, 5], #[2, 5, 8]\n",
    "        'vector_size': [100], #[50, 100, 200, 300]\n",
    "        'window': [5, 10] #[5, 10]\n",
    "        })\n",
    "        \n",
    "        tokens = get_train_tokens(train_data)\n",
    "        X_train, X_test, y_train, y_test = train_test_split(tokens, train_target['label'], test_size=0.2, random_state=0)\n",
    "        del tokens\n",
    "\n",
    "    \n",
    "    for param_comb in parameters:\n",
    "         \n",
    "        if vectorizer_name == 'tfidf_vectors':\n",
    "                \n",
    "            emb_train = get_tfid_vectors(X_train, param_comb)\n",
    "            emb_test = get_tfid_vectors(X_test, param_comb)\n",
    "                \n",
    "        elif vectorizer_name == 'count_vectors':\n",
    "                \n",
    "            emb_train = get_count_vectors(X_train,param_comb)\n",
    "            emb_test = get_count_vectors(X_test,param_comb)\n",
    "            \n",
    "        elif vectorizer_name == 'w2v_cbow':\n",
    "                \n",
    "            emb_train = get_w2v_cbow_embeddings(X_train, param_comb)\n",
    "            emb_test = get_w2v_cbow_embeddings(X_test, param_comb)\n",
    "                \n",
    "        elif vectorizer_name == 'w2v_skipg':\n",
    "                \n",
    "            emb_train = get_w2v_skipg_embeddings(X_train, param_comb)\n",
    "            emb_test = get_w2v_skipg_embeddings(X_test, param_comb)\n",
    "                \n",
    "        elif vectorizer_name == 'fasttext':\n",
    "                \n",
    "            emb_train = get_fasttext_embeddings(X_train, param_comb)\n",
    "            emb_test = get_fasttext_embeddings(X_test, param_comb)\n",
    "            \n",
    "        else:\n",
    "            emb_train = get_fasttext_embeddings(X_train, param_comb)\n",
    "            emb_test = get_fasttext_embeddings(X_test, param_comb)\n",
    "                \n",
    "                \n",
    "        model.fit(emb_train.toarray(), y_train)\n",
    "        predictions = model.predict(emb_test.toarray())\n",
    "        \n",
    "        acc = accuracy_score(y_test, predictions)\n",
    "            \n",
    "        if acc > best_acc:\n",
    "            best_acc = acc\n",
    "            best_model = {'vectorizer': vectorizer_name, 'parameters': param_comb, 'acc': best_acc}\n",
    "                \n",
    "    return best_model\n",
    "    \n",
    "  "
   ]
  },
  {
   "cell_type": "code",
   "execution_count": null,
   "id": "cced29df",
   "metadata": {},
   "outputs": [],
   "source": [
    "#model, vectorizer_name, vectorizers = hyper_tune()\n",
    "\n",
    "best_param_model = hypertuneVectorizor(model, vectorizer_name)"
   ]
  },
  {
   "cell_type": "code",
   "execution_count": null,
   "id": "b31fd3cd-dc34-4d41-ba22-a9989db9cb44",
   "metadata": {},
   "outputs": [],
   "source": []
  },
  {
   "cell_type": "code",
   "execution_count": null,
   "id": "4845e557-dd21-4e1e-b02a-bd34e01d1a02",
   "metadata": {},
   "outputs": [],
   "source": [
    "# search for an optimal value of K for KNN\n",
    "\n",
    "# list of integers 1 to 30\n",
    "# integers we want to try\n",
    "k_range = range(1, 31)\n",
    "\n",
    "# list of scores from k_range\n",
    "k_scores = []\n",
    "\n",
    "# 1. we will loop through reasonable values of k\n",
    "for k in k_range:\n",
    "    # 2. run KNeighborsClassifier with k neighbours\n",
    "    knn = KNeighborsClassifier(n_neighbors=k)\n",
    "    # 3. obtain cross_val_score for KNeighborsClassifier with k neighbours\n",
    "    scores = cross_val_score(knn, get_tfid_vectors(train_data).toarray(), train_target['label'], cv=5, scoring='accuracy')\n",
    "    # 4. append mean of scores for k neighbors to k_scores list\n",
    "    k_scores.append(scores.mean())\n",
    "print(k_scores)"
   ]
  },
  {
   "cell_type": "code",
   "execution_count": null,
   "id": "c08e215c-2196-40c1-a96e-6354a3404643",
   "metadata": {},
   "outputs": [],
   "source": [
    "# plot the value of K for KNN (x-axis) versus the cross-validated accuracy (y-axis)\n",
    "plt.plot(k_range, k_scores)\n",
    "plt.xlabel('Value of K for KNN')\n",
    "plt.ylabel('Cross-Validated Accuracy')"
   ]
  },
  {
   "cell_type": "code",
   "execution_count": null,
   "id": "7396dc27-32ea-47f4-b44b-d900d4ec472a",
   "metadata": {},
   "outputs": [],
   "source": [
    "# search for an optimal value of K for KNN\n",
    "\n",
    "# list of integers 1 to 30\n",
    "# integers we want to try\n",
    "k_range = range(1, 31)\n",
    "\n",
    "# list of scores from k_range\n",
    "k_scores_count = []\n",
    "\n",
    "# 1. we will loop through reasonable values of k\n",
    "for k in k_range:\n",
    "    # 2. run KNeighborsClassifier with k neighbours\n",
    "    knn = KNeighborsClassifier(n_neighbors=k)\n",
    "    # 3. obtain cross_val_score for KNeighborsClassifier with k neighbours\n",
    "    scores = cross_val_score(knn, get_count_vectors(train_data).toarray(), train_target['label'], cv=5, scoring='accuracy')\n",
    "    # 4. append mean of scores for k neighbors to k_scores list\n",
    "    k_scores_count.append(scores.mean())\n",
    "print(k_scores_count)"
   ]
  },
  {
   "cell_type": "code",
   "execution_count": null,
   "id": "5344e051-7b38-4509-93f5-9e312339a006",
   "metadata": {},
   "outputs": [],
   "source": [
    "# plot the value of K on Count vectors for KNN (x-axis) versus the cross-validated accuracy (y-axis)\n",
    "plt.plot(k_range, k_scores_count)\n",
    "plt.xlabel('Value of K for KNN')\n",
    "plt.ylabel('Cross-Validated Accuracy')"
   ]
  },
  {
   "cell_type": "code",
   "execution_count": null,
   "id": "62f9f660-3f86-44cb-9b31-d927d4a192a4",
   "metadata": {},
   "outputs": [],
   "source": [
    "# search for an optimal value of leaf size for KNN\n",
    "\n",
    "# list of integers 1 to 30\n",
    "# integers we want to try\n",
    "leafsize_range = range(5, 150)\n",
    "\n",
    "# list of scores from leafsize_range\n",
    "leafsize_scores = []\n",
    "\n",
    "# 1. we will loop through reasonable values of leaf size\n",
    "for l in leafsize_range:\n",
    "    # 2. run KNeighborsClassifier with l leaf sizes\n",
    "    knn = KNeighborsClassifier(leaf_size=l)\n",
    "    # 3. obtain cross_val_score for KNeighborsClassifier with l leaf sizes\n",
    "    scores = cross_val_score(knn, get_tfid_vectors(train_data).toarray(), train_target['label'], cv=5, scoring='accuracy')\n",
    "    # 4. append mean of scores for leaf sizes to leafsize_scores list\n",
    "    leafsize_scores.append(scores.mean())\n",
    "print(leafsize_scores)"
   ]
  },
  {
   "cell_type": "code",
   "execution_count": null,
   "id": "7f2467a2-430d-4983-b21e-fa84c4b9fc93",
   "metadata": {},
   "outputs": [],
   "source": [
    "# plot the value of leafsize on TFIDF vectors for KNN (x-axis) versus the cross-validated accuracy (y-axis)\n",
    "plt.plot(leafsize_range, leafsize_scores)\n",
    "plt.xlabel('Value of Leaf size for KNN')\n",
    "plt.ylabel('Cross-Validated Accuracy')"
   ]
  },
  {
   "cell_type": "code",
   "execution_count": null,
   "id": "e139a6b5-f7a6-40a3-9e9e-4a431a2b772f",
   "metadata": {},
   "outputs": [],
   "source": [
    "# search for an optimal value of leaf size for KNN\n",
    "\n",
    "# list of integers 1 to 30\n",
    "# integers we want to try\n",
    "leafsize_range = range(5, 150)\n",
    "\n",
    "# list of scores from leafsize_range\n",
    "leafsize_scores_count = []\n",
    "\n",
    "# 1. we will loop through reasonable values of leaf size\n",
    "for l in leafsize_range:\n",
    "    # 2. run KNeighborsClassifier with l leaf sizes\n",
    "    knn = KNeighborsClassifier(leaf_size=l)\n",
    "    # 3. obtain cross_val_score for KNeighborsClassifier with l leaf sizes\n",
    "    scores = cross_val_score(knn, get_count_vectors(train_data).toarray(), train_target['label'], cv=5, scoring='accuracy')\n",
    "    # 4. append mean of scores for leaf sizes to leafsize_scores list\n",
    "    leafsize_scores_count.append(scores.mean())\n",
    "print(leafsize_scores_count)"
   ]
  },
  {
   "cell_type": "code",
   "execution_count": null,
   "id": "597b3de9-bceb-453a-9c5d-b76baf11b248",
   "metadata": {},
   "outputs": [],
   "source": [
    "# plot the value of leafsize on Count vectors for KNN (x-axis) versus the cross-validated accuracy (y-axis)\n",
    "plt.plot(leafsize_range, leafsize_scores_count)\n",
    "plt.xlabel('Value of Leaf size for KNN')\n",
    "plt.ylabel('Cross-Validated Accuracy')"
   ]
  },
  {
   "cell_type": "code",
   "execution_count": null,
   "id": "2af7950d-d524-4b0a-88a7-faa69ca0fe8d",
   "metadata": {},
   "outputs": [],
   "source": [
    "# search for an optimal value of n estimators for RFC\n",
    "# list of integers 100 to 150\n",
    "# integers we want to try\n",
    "n_estimators_range = range(100, 151)\n",
    "\n",
    "# list of scores from n_estimators_range\n",
    "n_estimators_scores = []\n",
    "\n",
    "# 1. we will loop through reasonable values of n_estimators_range\n",
    "for n in n_estimators_range:\n",
    "    # 2. run RandomForestClassifier with n estimators\n",
    "    rfc = RandomForestClassifier(n_estimators=n)\n",
    "    # 3. obtain cross_val_score for RandomForestClassifier with n estimators\n",
    "    scores = cross_val_score(rfc, get_tfid_vectors(train_data).toarray(), train_target['label'], cv=5, scoring='accuracy')\n",
    "    # 4. append mean of scores for n estimators to n_estimators_scores list\n",
    "    n_estimators_scores.append(scores.mean())\n",
    "print(n_estimators_scores)"
   ]
  },
  {
   "cell_type": "code",
   "execution_count": null,
   "id": "13b291bd-b71f-4c72-aad2-ab4e6f9bcbd0",
   "metadata": {},
   "outputs": [],
   "source": [
    "# plot the value of n estimators on TFIDF vectors for RFC (x-axis) versus the cross-validated accuracy (y-axis)\n",
    "plt.plot(n_estimators_range,n_estimators_scores)\n",
    "plt.xlabel('Value of n estimators for RFC')\n",
    "plt.ylabel('Cross-Validated Accuracy')"
   ]
  },
  {
   "cell_type": "code",
   "execution_count": null,
   "id": "e40c2447-3a9d-4b4f-a77f-fde0855f445b",
   "metadata": {},
   "outputs": [],
   "source": [
    "# search for an optimal value of n estimators for RFC\n",
    "# list of integers 100 to 150\n",
    "# integers we want to try\n",
    "n_estimators_range = range(100, 151)\n",
    "\n",
    "# list of scores from n_estimators_range\n",
    "n_estimators_scores_count = []\n",
    "\n",
    "# 1. we will loop through reasonable values of n_estimators_range\n",
    "for n in n_estimators_range:\n",
    "    # 2. run RandomForestClassifier with n estimators\n",
    "    rfc = RandomForestClassifier(n_estimators=n)\n",
    "    # 3. obtain cross_val_score for RandomForestClassifier with n estimators\n",
    "    scores = cross_val_score(rfc, get_count_vectors(train_data).toarray(), train_target['label'], cv=5, scoring='accuracy')\n",
    "    # 4. append mean of scores for n estimators to n_estimators_scores list\n",
    "    n_estimators_scores_count.append(scores.mean())\n",
    "print(n_estimators_scores_count)"
   ]
  },
  {
   "cell_type": "code",
   "execution_count": null,
   "id": "1c110603-d804-427d-89b6-c7dd82df2191",
   "metadata": {},
   "outputs": [],
   "source": [
    "# plot the value of n estimators on Count vectors for RFC (x-axis) versus the cross-validated accuracy (y-axis)\n",
    "plt.plot(n_estimators_range,n_estimators_scores_count)\n",
    "plt.xlabel('Value of n estimators for RFC')\n",
    "plt.ylabel('Cross-Validated Accuracy')"
   ]
  },
  {
   "cell_type": "code",
   "execution_count": null,
   "id": "65e897a5-3273-4fd8-820e-ab7360065dfa",
   "metadata": {},
   "outputs": [],
   "source": [
    "# search for an optimal value of max_features for RFC   'max_features': ['auto', 'sqrt']\n",
    "\n",
    "# Values we want to try\n",
    "max_features = ['auto', 'sqrt']\n",
    "\n",
    "# list of scores from max_features_range\n",
    "max_features_scores = []\n",
    "\n",
    "# 1. we will loop through reasonable values of max_features\n",
    "for m in max_features:\n",
    "    # 2. run RandomForestClassifier with max_features\n",
    "    rfc = RandomForestClassifier(max_features=m) \n",
    "    # 3. obtain cross_val_score for RandomForestClassifier with max_features\n",
    "    scores = cross_val_score(rfc, get_tfid_vectors(train_data).toarray(), train_target['label'], cv=5, scoring='accuracy')\n",
    "    # 4. append mean of scores for max_features to max_features_scores list\n",
    "    max_features_scores.append(scores.mean())\n",
    "print(max_features_scores)"
   ]
  },
  {
   "cell_type": "code",
   "execution_count": null,
   "id": "769f06ee-39d1-47cf-93cc-7d27f2bada74",
   "metadata": {},
   "outputs": [],
   "source": [
    "# plot the value of max features on TFIDF vectors for RFC (x-axis) versus the cross-validated accuracy (y-axis)\n",
    "plt.plot(max_features,max_features_scores)\n",
    "plt.xlabel('Value of max features for RFC')\n",
    "plt.ylabel('Cross-Validated Accuracy')"
   ]
  },
  {
   "cell_type": "code",
   "execution_count": null,
   "id": "339a3edf-06a5-4b23-9ae4-d61ffbae2a3d",
   "metadata": {},
   "outputs": [],
   "source": [
    "# search for an optimal value of max_depth for RFC max_depth_range\n",
    "\n",
    "# Values we want to try\n",
    "max_depth_range_rfc = range(5,100)\n",
    "\n",
    "# list of scores from max_depth_range\n",
    "max_depth_scores_rfc = []\n",
    "\n",
    "# 1. we will loop through reasonable values of max_depth_range\n",
    "for m in max_depth_range:\n",
    "    # 2. run RandomForestClassifier with max_depth_range\n",
    "    rfc = RandomForestClassifier(max_depth=m) \n",
    "    # 3. obtain cross_val_score for RandomForestClassifier with max_depth\n",
    "    scores = cross_val_score(rfc, get_tfid_vectors(train_data).toarray(), train_target['label'], cv=5, scoring='accuracy')\n",
    "    # 4. append mean of scores for max_depth to max_depth_scores list\n",
    "    max_depth_scores_rfc.append(scores.mean())\n",
    "print(max_depth_scores_rfc)"
   ]
  },
  {
   "cell_type": "code",
   "execution_count": null,
   "id": "dc96b107-498f-43c2-8626-e6559f88605d",
   "metadata": {},
   "outputs": [],
   "source": [
    "# plot the value of max depth on TFIDF vectors for RFC (x-axis) versus the cross-validated accuracy (y-axis)\n",
    "plt.plot(max_depth_range_rfc, max_depth_scores_rfc)\n",
    "plt.xlabel('Value of max depth for RFC')\n",
    "plt.ylabel('Cross-Validated Accuracy')"
   ]
  },
  {
   "cell_type": "code",
   "execution_count": null,
   "id": "70c15788-a6c4-4688-9839-f581686ba02a",
   "metadata": {},
   "outputs": [],
   "source": [
    "# search for an optimal value of max_depth for DTC max_depth_range\n",
    "\n",
    "# Values we want to try\n",
    "max_depth_range = range(5,100)\n",
    "\n",
    "# list of scores from max_depth_range\n",
    "max_depth_scores_dtc = []\n",
    "\n",
    "# 1. we will loop through reasonable values of max_depth_range\n",
    "for m in max_depth_range:\n",
    "    # 2. run DecisionTreeClassifier with max_depth_range\n",
    "    dtc = DecisionTreeClassifier(max_depth=m) \n",
    "    # 3. obtain cross_val_score for DecisionTreeClassifier with max_depth\n",
    "    scores = cross_val_score(dtc, get_tfid_vectors(train_data).toarray(), train_target['label'], cv=5, scoring='accuracy')\n",
    "    # 4. append mean of scores for max_depth to max_depth_scores list\n",
    "    max_depth_scores_dtc.append(scores.mean())\n",
    "print(max_depth_scores_dtc)\n",
    "\n"
   ]
  },
  {
   "cell_type": "code",
   "execution_count": null,
   "id": "9d245585-cd49-483d-8c38-3add106c64c7",
   "metadata": {},
   "outputs": [],
   "source": [
    "# plot the value of max depth on TFIDF vectors for DTC (x-axis) versus the cross-validated accuracy (y-axis)\n",
    "plt.plot(max_depth_range,max_depth_scores_dtc)\n",
    "plt.xlabel('Value of max depth for DTC')\n",
    "plt.ylabel('Cross-Validated Accuracy')"
   ]
  },
  {
   "cell_type": "code",
   "execution_count": null,
   "id": "62ed0f70-4e2c-4ffa-960e-cb859873b56b",
   "metadata": {},
   "outputs": [],
   "source": [
    "# search for an optimal value of min_samples_split for DTC min_samples_split_range\n",
    "\n",
    "# Values we want to try\n",
    "min_samples_split_range_dtc = range(5,100)\n",
    "\n",
    "# list of scores from min_samples_split_range_dtc\n",
    "min_samples_split_scores_dtc  = []\n",
    "\n",
    "# 1. we will loop through reasonable values of min_samples_split_range\n",
    "for m in min_samples_split_range_dtc:\n",
    "    # 2. run DecisionTreeClassifier with min_samples_split_range\n",
    "    dtc = DecisionTreeClassifier(min_samples_split=m) \n",
    "    # 3. obtain cross_val_score for DecisionTreeClassifier with min_samples_split\n",
    "    scores = cross_val_score(dtc, get_tfid_vectors(train_data).toarray(), train_target['label'], cv=5, scoring='accuracy')\n",
    "    # 4. append mean of scores for min_samples_split to min_samples_split_scores_dtc list\n",
    "    min_samples_split_scores_dtc.append(scores.mean())\n",
    "print(min_samples_split_scores_dtc)\n",
    "                "
   ]
  },
  {
   "cell_type": "code",
   "execution_count": null,
   "id": "81b7d7e5-9114-4d96-80eb-7a06dc455aff",
   "metadata": {},
   "outputs": [],
   "source": [
    "# plot the value of min samples split on TFIDF vectors for DTC (x-axis) versus the cross-validated accuracy (y-axis)\n",
    "plt.plot(min_samples_split_range_dtc,min_samples_split_scores_dtc)\n",
    "plt.xlabel('Value of min_samples_split for DTC')\n",
    "plt.ylabel('Cross-Validated Accuracy')"
   ]
  },
  {
   "cell_type": "code",
   "execution_count": null,
   "id": "552cff1c-b91f-45be-aa7a-3e335f80c59d",
   "metadata": {},
   "outputs": [],
   "source": [
    "# search for an optimal value of alpha for MNB alpha_range\n",
    "\n",
    "# Values we want to try\n",
    "alpha_range = (1, 0.1, 0.01, 0.001, 0.0001, 0.00001)\n",
    "\n",
    "# list of scores from alpha_range\n",
    "alpha_scores = []\n",
    "\n",
    "# 1. we will loop through reasonable values of alpha_range\n",
    "for a in alpha_range :\n",
    "    # 2. run MNB with alpha_range\n",
    "    mnb = MultinomialNB(alpha=a) \n",
    "    # 3. obtain cross_val_score for MNB with alpha_range\n",
    "    scores = cross_val_score(mnb, get_tfid_vectors(train_data).toarray(), train_target['label'], cv=5, scoring='accuracy')\n",
    "    # 4. append mean of scores for alpha_range to alpha_scores list\n",
    "    alpha_scores.append(scores.mean())\n",
    "print(alpha_scores)\n",
    "                "
   ]
  },
  {
   "cell_type": "code",
   "execution_count": null,
   "id": "b56fbd2b-459a-4864-8752-2178369af359",
   "metadata": {},
   "outputs": [],
   "source": [
    "# plot the value of alpha on TFIDF vectors for MNB (x-axis) versus the cross-validated accuracy (y-axis)\n",
    "plt.plot(alpha_range,alpha_scores)\n",
    "plt.xlabel('Value of alpha for MNB')\n",
    "plt.ylabel('Cross-Validated Accuracy')"
   ]
  },
  {
   "cell_type": "code",
   "execution_count": null,
   "id": "87199399-4e4c-412c-8cb3-1f38549af0ff",
   "metadata": {},
   "outputs": [],
   "source": [
    "# search for an optimal value of alpha for MLP hidden_layer_sizes\n",
    "\n",
    "# Values we want to try\n",
    "hidden_layer_sizes_range = range(50,300,10)\n",
    "\n",
    "# list of scores from alpha_range\n",
    "hidden_layer_sizes_scores = []\n",
    "\n",
    "# 1. we will loop through reasonable values of hidden_layer_sizes_range\n",
    "for h in hidden_layer_sizes_range :\n",
    "    # 2. run MNB with alpha_range\n",
    "    mlp = MLPClassifier(hidden_layer_sizes=h) \n",
    "    # 3. obtain cross_val_score for MLP with hidden_layer_sizes_range\n",
    "    scores = cross_val_score(mlp, get_tfid_vectors(train_data).toarray(), train_target['label'], cv=5, scoring='accuracy')\n",
    "    # 4. append mean of scores for hidden_layer_sizes_range to hidden_layer_sizes_scores list\n",
    "    hidden_layer_sizes_scores.append(scores.mean())\n",
    "print(hidden_layer_sizes_scores)\n"
   ]
  },
  {
   "cell_type": "code",
   "execution_count": null,
   "id": "2d8293ba-66c0-4e81-8a14-46c98f67fcdc",
   "metadata": {},
   "outputs": [],
   "source": [
    "# plot the value of  on TFIDF vectors for MLP (x-axis) versus the cross-validated accuracy (y-axis)\n",
    "plt.plot(hidden_layer_sizes_range,hidden_layer_sizes_scores)\n",
    "plt.xlabel('Value of hidden_layer_sizes for MLP')\n",
    "plt.ylabel('Cross-Validated Accuracy')\n"
   ]
  }
 ],
 "metadata": {
  "kernelspec": {
   "display_name": "Python 3 (ipykernel)",
   "language": "python",
   "name": "python3"
  },
  "language_info": {
   "codemirror_mode": {
    "name": "ipython",
    "version": 3
   },
   "file_extension": ".py",
   "mimetype": "text/x-python",
   "name": "python",
   "nbconvert_exporter": "python",
   "pygments_lexer": "ipython3",
   "version": "3.9.12"
  }
 },
 "nbformat": 4,
 "nbformat_minor": 5
}
