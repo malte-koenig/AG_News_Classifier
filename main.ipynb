{
 "cells": [
  {
   "cell_type": "markdown",
   "id": "1a1c519b",
   "metadata": {},
   "source": [
    "## Preprocessing"
   ]
  },
  {
   "cell_type": "markdown",
   "id": "4a03b45c",
   "metadata": {},
   "source": [
    "#### paste following lines into anaconda prompt (as admin) and press enter: \n",
    "#### conda install -c huggingface -c conda-forge datasets\n",
    "#### conda install -c anaconda gensim\n"
   ]
  },
  {
   "cell_type": "code",
   "execution_count": 1,
   "id": "be193bd7",
   "metadata": {},
   "outputs": [],
   "source": [
    "from datasets import load_dataset\n",
    "import pandas as pd\n",
    "import matplotlib.pyplot as plt\n",
    "import numpy as np\n",
    "import re, string, nltk\n",
    "from nltk.tokenize import word_tokenize\n",
    "from nltk.corpus import stopwords\n",
    "from nltk.corpus import wordnet\n",
    "from nltk.stem import WordNetLemmatizer\n",
    "from gensim.models import Word2Vec, FastText\n",
    "from sklearn.feature_extraction.text import TfidfVectorizer, CountVectorizer\n",
    "from sklearn.model_selection import train_test_split, cross_val_score, StratifiedKFold, GridSearchCV\n",
    "from sklearn.neighbors import KNeighborsClassifier\n",
    "from sklearn.tree import DecisionTreeClassifier\n",
    "from sklearn.naive_bayes import GaussianNB\n",
    "from sklearn.svm import SVC\n",
    "from sklearn.neural_network import MLPClassifier\n",
    "from imblearn.under_sampling import RandomUnderSampler\n",
    "from scipy import sparse"
   ]
  },
  {
   "cell_type": "markdown",
   "id": "235bdb01",
   "metadata": {},
   "source": [
    "# Train test split and class distribution"
   ]
  },
  {
   "cell_type": "code",
   "execution_count": 2,
   "id": "d03c42a2",
   "metadata": {},
   "outputs": [
    {
     "name": "stderr",
     "output_type": "stream",
     "text": [
      "[nltk_data] Downloading package wordnet to\n",
      "[nltk_data]     C:\\Users\\vince\\AppData\\Roaming\\nltk_data...\n",
      "[nltk_data]   Package wordnet is already up-to-date!\n",
      "[nltk_data] Downloading package stopwords to\n",
      "[nltk_data]     C:\\Users\\vince\\AppData\\Roaming\\nltk_data...\n",
      "[nltk_data]   Package stopwords is already up-to-date!\n",
      "[nltk_data] Downloading package punkt to\n",
      "[nltk_data]     C:\\Users\\vince\\AppData\\Roaming\\nltk_data...\n",
      "[nltk_data]   Package punkt is already up-to-date!\n",
      "[nltk_data] Downloading package averaged_perceptron_tagger to\n",
      "[nltk_data]     C:\\Users\\vince\\AppData\\Roaming\\nltk_data...\n",
      "[nltk_data]   Package averaged_perceptron_tagger is already up-to-\n",
      "[nltk_data]       date!\n",
      "Using custom data configuration default\n",
      "Reusing dataset ag_news (C:\\Users\\vince\\.cache\\huggingface\\datasets\\ag_news\\default\\0.0.0\\bc2bcb40336ace1a0374767fc29bb0296cdaf8a6da7298436239c54d79180548)\n"
     ]
    },
    {
     "data": {
      "application/vnd.jupyter.widget-view+json": {
       "model_id": "aef47d46ea2d47edb25e00942a1576a8",
       "version_major": 2,
       "version_minor": 0
      },
      "text/plain": [
       "  0%|          | 0/2 [00:00<?, ?it/s]"
      ]
     },
     "metadata": {},
     "output_type": "display_data"
    },
    {
     "data": {
      "image/png": "[encoded data removed]",
      "text/plain": [
       "<Figure size 720x360 with 2 Axes>"
      ]
     },
     "metadata": {
      "needs_background": "light"
     },
     "output_type": "display_data"
    }
   ],
   "source": [
    "nltk.download('wordnet')\n",
    "nltk.download('stopwords')\n",
    "nltk.download('punkt')\n",
    "nltk.download('averaged_perceptron_tagger')\n",
    "\n",
    "# train-test split\n",
    "dataset = load_dataset(\"ag_news\")\n",
    "train_df = pd.DataFrame(dataset['train'])\n",
    "test_df = pd.DataFrame(dataset['test'])\n",
    "del dataset\n",
    "\n",
    "def class_distribution():\n",
    "    \n",
    "    # checking class distribution\n",
    "    plt.figure(figsize=(10,5))\n",
    "\n",
    "    ## train data\n",
    "    plt.subplot(1,2,1)\n",
    "    train_df_target = train_df['label']\n",
    "    class_dist = pd.Series(train_df_target).value_counts()\n",
    "    plt.title('train_df')\n",
    "    plt.bar(class_dist.index, class_dist)\n",
    "    plt.tight_layout()\n",
    "\n",
    "    ## test data\n",
    "    plt.subplot(1,2,2)\n",
    "    test_df_target = test_df['label']\n",
    "    class_dist = pd.Series(test_df_target).value_counts()\n",
    "    plt.title('test_df')\n",
    "    plt.bar(class_dist.index, class_dist)\n",
    "    plt.tight_layout()\n",
    "\n",
    "    plt.show()\n",
    "\n",
    "def balanced_fractionize(df, frac):\n",
    "    \n",
    "    frac_df = df.sample(frac=frac, random_state=42)\n",
    "    frac_data, frac_target = frac_df['text'].values.reshape(-1, 1), frac_df['label'].values.reshape(-1, 1)\n",
    "    \n",
    "    sampler = RandomUnderSampler()\n",
    "    bal_frac_data, bal_frac_target = sampler.fit_resample(frac_data, frac_target)\n",
    "    \n",
    "    class_dist = pd.Series(bal_frac_target).value_counts()\n",
    "    plt.bar(class_dist.index, class_dist)\n",
    "    plt.ylabel(\"Frequency\")\n",
    "    plt.show()\n",
    "    \n",
    "    return pd.DataFrame(bal_frac_data, columns = ['text']), pd.DataFrame(bal_frac_target, columns = ['label'])\n",
    "\n",
    "class_distribution()"
   ]
  },
  {
   "cell_type": "code",
   "execution_count": 3,
   "id": "6d721d10",
   "metadata": {},
   "outputs": [],
   "source": [
    "#initialize stopwords and lemmatizer\n",
    "stop_words = set(stopwords.words('english'))\n",
    "wnl = WordNetLemmatizer()\n",
    "\n",
    "\n",
    "def preprocessing(text):\n",
    "    \n",
    "    # convert to lowercase and remove spaces at beginning and ending\n",
    "    text = text.lower().strip()\n",
    "    \n",
    "    # remove punctuation\n",
    "    text = re.compile('[%s]' % re.escape(string.punctuation)).sub(' ', text)\n",
    "    \n",
    "    # remove html code\n",
    "    text= re.sub('<.*?>', '', text) \n",
    "    \n",
    "    # remove special characters\n",
    "    text=re.sub(r'[^\\w\\s]', '', str(text).lower().strip())\n",
    "    \n",
    "    # remove digits\n",
    "    text = re.sub(r'\\d',' ',text)\n",
    "    \n",
    "    # replace multiple whitespaces with one\n",
    "    text = re.sub('\\s+', ' ', text)\n",
    "    \n",
    "    # stop word removal\n",
    "    clean_text = ' '.join([word for word in text.split() if word not in stop_words])\n",
    "    \n",
    "    # tonkenize & lemmatize\n",
    "    word_pos_tags = nltk.pos_tag(word_tokenize(clean_text)) # -> list of tuples (word, pos_tag) [('computer', 'NN'), ('word', 'tag')]\n",
    "    lem_text = ' '.join([wnl.lemmatize(tag[0], get_wordnet_pos(tag[1])) for tag in word_pos_tags])\n",
    "\n",
    "    return lem_text\n",
    "\n",
    " \n",
    "def get_wordnet_pos(tag):\n",
    "    if tag.startswith('J'):\n",
    "        return wordnet.ADJ\n",
    "    elif tag.startswith('V'):\n",
    "        return wordnet.VERB\n",
    "    elif tag.startswith('N'):\n",
    "        return wordnet.NOUN\n",
    "    elif tag.startswith('R'):\n",
    "        return wordnet.ADV\n",
    "    else:\n",
    "        # default pos\n",
    "        return wordnet.NOUN\n",
    "    \n"
   ]
  },
  {
   "cell_type": "code",
   "execution_count": null,
   "id": "d47b244a",
   "metadata": {},
   "outputs": [],
   "source": [
    "# execute preprocessing for training set\n",
    "train_df['text'] = train_df['text'].apply(lambda x: preprocessing(x))\n",
    "train_df.to_csv('training_data.csv', sep=';', encoding='utf-8', index=False)\n",
    "train_df.head()"
   ]
  },
  {
   "cell_type": "markdown",
   "id": "ebf6fb62",
   "metadata": {},
   "source": [
    "## Vectorization"
   ]
  },
  {
   "cell_type": "code",
   "execution_count": 4,
   "id": "a7b24275",
   "metadata": {},
   "outputs": [
    {
     "data": {
      "image/png": "[encoded data removed]",
      "text/plain": [
       "<Figure size 432x288 with 1 Axes>"
      ]
     },
     "metadata": {
      "needs_background": "light"
     },
     "output_type": "display_data"
    }
   ],
   "source": [
    "# read in preprocessed training data if necessary\n",
    "train_df = pd.read_csv('preprocessed_training_data.csv', sep=';', encoding='utf-8')\n",
    "\n",
    "#fractionize and undersample data\n",
    "train_data, train_target = balanced_fractionize(train_df, 0.001)\n",
    "\n",
    "#Tokenize\n",
    "def get_train_tokens(df_data):\n",
    "    return [word_tokenize(text) for text in df_data['text']]"
   ]
  },
  {
   "cell_type": "markdown",
   "id": "9387d88e",
   "metadata": {},
   "source": [
    "### Count vectors and Tf-idf vectors"
   ]
  },
  {
   "cell_type": "code",
   "execution_count": 5,
   "id": "eb9c4bab",
   "metadata": {},
   "outputs": [],
   "source": [
    "def get_tfid_vectors(df_data):\n",
    "    tfidf_vectorizer = TfidfVectorizer()\n",
    "    return tfidf_vectorizer.fit_transform(df_data['text']).toarray()\n",
    "\n",
    "def get_count_vectors(df_data):\n",
    "    count_vectorizer = CountVectorizer()\n",
    "    return count_vectorizer.fit_transform(df_data['text']).toarray()"
   ]
  },
  {
   "cell_type": "markdown",
   "id": "7fc87a9f",
   "metadata": {},
   "source": [
    "### Word2Vec SkipGram & CBOW"
   ]
  },
  {
   "cell_type": "code",
   "execution_count": 12,
   "id": "4ae686c4",
   "metadata": {},
   "outputs": [],
   "source": [
    "# returns mean w2v vector for list of specified words\n",
    "def get_embedding(model, text):\n",
    "    existing_words = [word for word in text if word in list(model.wv.index_to_key)]\n",
    "    if existing_words:\n",
    "        embedding = np.zeros((len(existing_words), model.vector_size), dtype=np.float32)\n",
    "        for i, w in enumerate(existing_words):\n",
    "                embedding[i] = model.wv[w]\n",
    "        return np.mean(embedding, axis=0)\n",
    "    else:\n",
    "        return np.zeros(model.vector_size)\n",
    "\n",
    "    \n",
    "    \n",
    "def get_w2v_cbow_embeddings(tokens):\n",
    "    w2v_cbow = Word2Vec(tokens, min_count=2,vector_size=300, window=5)\n",
    "    # get mean vector for each article description for both models\n",
    "    return np.array([get_embedding(w2v_cbow, text) for text in tokens])\n",
    "\n",
    "def get_w2v_skipg_embeddings(tokens):\n",
    "    w2v_skipg = Word2Vec(tokens, min_count=2,vector_size=300, window=5, sg = 1)\n",
    "    # get mean vector for each article description for both models\n",
    "    return np.array([get_embedding(w2v_skipg, text) for text in tokens])"
   ]
  },
  {
   "cell_type": "markdown",
   "id": "20988705",
   "metadata": {},
   "source": [
    "### fastText"
   ]
  },
  {
   "cell_type": "code",
   "execution_count": 13,
   "id": "02f27af6",
   "metadata": {},
   "outputs": [],
   "source": [
    "def get_fasttext_embeddings(tokens):\n",
    "    fasttext = FastText(vector_size=300, window=5, min_count=2)\n",
    "    fasttext.build_vocab(corpus_iterable=tokens)\n",
    "    fasttext.train(corpus_iterable=tokens, total_examples=len(tokens), epochs=10)\n",
    "    return np.array([get_embedding(fasttext, text) for text in tokens])"
   ]
  },
  {
   "cell_type": "code",
   "execution_count": 14,
   "id": "75fd3616",
   "metadata": {},
   "outputs": [],
   "source": [
    "vectorizer_names = [\"tfidf_vectors\", \"count_vectors\", \"w2v_cbow\", \"w2v_skipg\", \"fasttext\"]\n",
    "\n",
    "#returns vector-matrix with specified vectorizer on specified data\n",
    "def get_vectorMatrix(vectorizer_name, df_data):\n",
    "    for vectorizer_name in vectorizer_names:\n",
    "        if vectorizer_name == \"tfidf_vectors\":\n",
    "            return get_tfid_vectors(df_data)\n",
    "        elif vectorizer_name == \"count_vectors\":\n",
    "            return get_count_vectors(train_data)\n",
    "        elif vectorizer_name == \"w2v_cbow\":\n",
    "            train_tokens = get_train_tokens(train_data)\n",
    "            return get_w2v_cbow_embeddings(train_tokens)\n",
    "        elif vectorizer_name == \"w2v_skipg\":\n",
    "            train_tokens = get_train_tokens(train_data)\n",
    "            return get_w2v_skipg_embeddings(train_tokens)\n",
    "        elif vectorizer_name == \"fasttext\":\n",
    "            train_tokens = get_train_tokens(train_data)\n",
    "            return get_fasttext_embeddings(train_tokens)"
   ]
  },
  {
   "cell_type": "markdown",
   "id": "a48028ba",
   "metadata": {},
   "source": [
    "## Classification"
   ]
  },
  {
   "cell_type": "markdown",
   "id": "389aca43",
   "metadata": {},
   "source": [
    "### Hyperparameter Tuning"
   ]
  },
  {
   "cell_type": "code",
   "execution_count": 15,
   "id": "ab54ba4c",
   "metadata": {},
   "outputs": [],
   "source": [
    "from sklearn.model_selection import KFold\n",
    "from sklearn.metrics import accuracy_score\n",
    "from numpy import mean\n",
    "from numpy import std\n",
    "\n",
    "# hyperparameter tuning\n",
    "def param_search(vector_matrix, vector_matrix_name, estimator):\n",
    "    \n",
    "    estimator_name = estimator['name']\n",
    "    parameters = estimator['parameters']\n",
    "    estimator = estimator['estimator']\n",
    "    \n",
    "    # configure the cross-validation procedure\n",
    "    cv_outer = StratifiedKFold(n_splits=3, shuffle=True, random_state=42)\n",
    "    \n",
    "    # enumerate splits\n",
    "    outer_results = list()\n",
    "    X = vector_matrix\n",
    "    y = train_target['label']\n",
    "    \n",
    "    for train_ix, test_ix in cv_outer.split(X,y):\n",
    "        \n",
    "        # split data\n",
    "        X_train, X_test = X[train_ix, :], X[test_ix, :]\n",
    "        y_train, y_test = y[train_ix], y[test_ix]\n",
    "    \n",
    "        # specify the nested cross validation\n",
    "        nested_cv = StratifiedKFold(n_splits=2, shuffle=True, random_state=42)\n",
    "\n",
    "        # create the grid search instance\n",
    "        search = GridSearchCV(estimator, parameters, scoring='accuracy', cv=nested_cv, n_jobs=-1, refit=True)\n",
    "        \n",
    "        # execute search\n",
    "        result = search.fit(vector_matrix, train_target['label'])\n",
    "        \n",
    "        # get the best performing model fit on the whole training set\n",
    "        best_model = result.best_estimator_\n",
    "        \n",
    "        # evaluate model on the hold out dataset\n",
    "        predictions = best_model.predict(X_test)\n",
    "        \n",
    "        # evaluate the model\n",
    "        acc = accuracy_score(y_test, predictions)\n",
    "        \n",
    "        # store the result\n",
    "        outer_results.append(acc)\n",
    "        \n",
    "        # report progress\n",
    "        print('>acc=%.3f, est=%.3f, cfg=%s' % (acc, result.best_score_, result.best_params_))\n",
    "        \n",
    "    # summarize the estimated performance of the model\n",
    "    accuracy_mean = mean(outer_results)\n",
    "    \n",
    "    #print the best parameter setting\n",
    "    print(\"Classifier: {}\".format(estimator_name))\n",
    "    print(\"Vectorizer: {}\".format(vector_matrix_name))\n",
    "    print(\"Mean Accuracy: {}\".format(accuracy_mean))\n",
    "    print()\n",
    "    \n",
    "    return accuracy_mean, best_model"
   ]
  },
  {
   "cell_type": "code",
   "execution_count": 18,
   "id": "41b585e2",
   "metadata": {},
   "outputs": [
    {
     "name": "stdout",
     "output_type": "stream",
     "text": [
      ">acc=0.857, est=0.558, cfg={'leaf_size': 25, 'n_neighbors': 2}\n",
      ">acc=0.800, est=0.558, cfg={'leaf_size': 25, 'n_neighbors': 2}\n",
      ">acc=0.794, est=0.558, cfg={'leaf_size': 25, 'n_neighbors': 2}\n",
      "Classifier: KNeighborsClassifier\n",
      "Vectorizer: tfidf_vectors\n",
      "Mean Accuracy: 0.8170868347338934\n",
      "\n",
      ">acc=0.514, est=0.365, cfg={'criterion': 'gini', 'max_depth': 5}\n",
      ">acc=0.486, est=0.385, cfg={'criterion': 'gini', 'max_depth': 5}\n",
      ">acc=1.000, est=0.442, cfg={'criterion': 'gini', 'max_depth': None}\n",
      "Classifier: DecisionTreeClassifier\n",
      "Vectorizer: tfidf_vectors\n",
      "Mean Accuracy: 0.6666666666666666\n",
      "\n",
      ">acc=1.000, est=0.625, cfg={'var_smoothing': 0.1}\n",
      ">acc=1.000, est=0.625, cfg={'var_smoothing': 0.1}\n",
      ">acc=1.000, est=0.625, cfg={'var_smoothing': 0.1}\n",
      "Classifier: GaussianNB\n",
      "Vectorizer: tfidf_vectors\n",
      "Mean Accuracy: 1.0\n",
      "\n",
      ">acc=1.000, est=0.577, cfg={'C': 10.0, 'gamma': 'scale', 'kernel': 'rbf'}\n",
      ">acc=1.000, est=0.577, cfg={'C': 10.0, 'gamma': 'scale', 'kernel': 'rbf'}\n",
      ">acc=1.000, est=0.577, cfg={'C': 10.0, 'gamma': 'scale', 'kernel': 'rbf'}\n",
      "Classifier: SVC\n",
      "Vectorizer: tfidf_vectors\n",
      "Mean Accuracy: 1.0\n",
      "\n",
      ">acc=1.000, est=0.606, cfg={'activation': 'tanh', 'learning_rate': 'constant', 'solver': 'adam'}\n",
      ">acc=1.000, est=0.596, cfg={'activation': 'relu', 'learning_rate': 'constant', 'solver': 'adam'}\n",
      ">acc=1.000, est=0.587, cfg={'activation': 'tanh', 'learning_rate': 'constant', 'solver': 'adam'}\n",
      "Classifier: MLPClassifier\n",
      "Vectorizer: tfidf_vectors\n",
      "Mean Accuracy: 1.0\n",
      "\n",
      ">acc=0.629, est=0.423, cfg={'leaf_size': 25, 'n_neighbors': 4}\n",
      ">acc=0.543, est=0.423, cfg={'leaf_size': 25, 'n_neighbors': 4}\n",
      ">acc=0.647, est=0.423, cfg={'leaf_size': 25, 'n_neighbors': 4}\n",
      "Classifier: KNeighborsClassifier\n",
      "Vectorizer: count_vectors\n",
      "Mean Accuracy: 0.6061624649859944\n",
      "\n",
      ">acc=1.000, est=0.404, cfg={'criterion': 'gini', 'max_depth': None}\n",
      ">acc=1.000, est=0.433, cfg={'criterion': 'gini', 'max_depth': None}\n",
      ">acc=1.000, est=0.365, cfg={'criterion': 'entropy', 'max_depth': None}\n",
      "Classifier: DecisionTreeClassifier\n",
      "Vectorizer: count_vectors\n",
      "Mean Accuracy: 1.0\n",
      "\n",
      ">acc=1.000, est=0.644, cfg={'var_smoothing': 0.1}\n",
      ">acc=1.000, est=0.644, cfg={'var_smoothing': 0.1}\n",
      ">acc=1.000, est=0.644, cfg={'var_smoothing': 0.1}\n",
      "Classifier: GaussianNB\n",
      "Vectorizer: count_vectors\n",
      "Mean Accuracy: 1.0\n",
      "\n",
      ">acc=1.000, est=0.587, cfg={'C': 10.0, 'gamma': 'scale', 'kernel': 'sigmoid'}\n",
      ">acc=1.000, est=0.587, cfg={'C': 10.0, 'gamma': 'scale', 'kernel': 'sigmoid'}\n",
      ">acc=1.000, est=0.587, cfg={'C': 10.0, 'gamma': 'scale', 'kernel': 'sigmoid'}\n",
      "Classifier: SVC\n",
      "Vectorizer: count_vectors\n",
      "Mean Accuracy: 1.0\n",
      "\n",
      ">acc=1.000, est=0.625, cfg={'activation': 'tanh', 'learning_rate': 'constant', 'solver': 'adam'}\n",
      ">acc=1.000, est=0.587, cfg={'activation': 'relu', 'learning_rate': 'constant', 'solver': 'adam'}\n",
      ">acc=1.000, est=0.625, cfg={'activation': 'relu', 'learning_rate': 'adaptive', 'solver': 'adam'}\n",
      "Classifier: MLPClassifier\n",
      "Vectorizer: count_vectors\n",
      "Mean Accuracy: 1.0\n",
      "\n",
      ">acc=0.743, est=0.365, cfg={'leaf_size': 25, 'n_neighbors': 2}\n",
      ">acc=0.686, est=0.365, cfg={'leaf_size': 25, 'n_neighbors': 2}\n",
      ">acc=0.765, est=0.365, cfg={'leaf_size': 25, 'n_neighbors': 2}\n",
      "Classifier: KNeighborsClassifier\n",
      "Vectorizer: w2v_cbow\n",
      "Mean Accuracy: 0.73109243697479\n",
      "\n",
      ">acc=0.514, est=0.308, cfg={'criterion': 'entropy', 'max_depth': 2}\n",
      ">acc=1.000, est=0.317, cfg={'criterion': 'entropy', 'max_depth': 5}\n",
      ">acc=0.882, est=0.327, cfg={'criterion': 'entropy', 'max_depth': 5}\n",
      "Classifier: DecisionTreeClassifier\n",
      "Vectorizer: w2v_cbow\n",
      "Mean Accuracy: 0.7988795518207282\n",
      "\n",
      ">acc=0.943, est=0.442, cfg={'var_smoothing': 0.1}\n",
      ">acc=1.000, est=0.442, cfg={'var_smoothing': 0.1}\n",
      ">acc=0.941, est=0.442, cfg={'var_smoothing': 0.1}\n",
      "Classifier: GaussianNB\n",
      "Vectorizer: w2v_cbow\n",
      "Mean Accuracy: 0.9613445378151261\n",
      "\n",
      ">acc=1.000, est=0.500, cfg={'C': 10.0, 'gamma': 'scale', 'kernel': 'rbf'}\n",
      ">acc=1.000, est=0.500, cfg={'C': 10.0, 'gamma': 'scale', 'kernel': 'rbf'}\n",
      ">acc=1.000, est=0.500, cfg={'C': 10.0, 'gamma': 'scale', 'kernel': 'rbf'}\n",
      "Classifier: SVC\n",
      "Vectorizer: w2v_cbow\n",
      "Mean Accuracy: 1.0\n",
      "\n"
     ]
    },
    {
     "name": "stderr",
     "output_type": "stream",
     "text": [
      "C:\\Users\\vince\\anaconda3\\envs\\Python_DataMining\\lib\\site-packages\\sklearn\\neural_network\\_multilayer_perceptron.py:692: ConvergenceWarning: Stochastic Optimizer: Maximum iterations (200) reached and the optimization hasn't converged yet.\n",
      "  warnings.warn(\n"
     ]
    },
    {
     "name": "stdout",
     "output_type": "stream",
     "text": [
      ">acc=0.800, est=0.471, cfg={'activation': 'relu', 'learning_rate': 'constant', 'solver': 'adam'}\n"
     ]
    },
    {
     "name": "stderr",
     "output_type": "stream",
     "text": [
      "C:\\Users\\vince\\anaconda3\\envs\\Python_DataMining\\lib\\site-packages\\sklearn\\neural_network\\_multilayer_perceptron.py:692: ConvergenceWarning: Stochastic Optimizer: Maximum iterations (200) reached and the optimization hasn't converged yet.\n",
      "  warnings.warn(\n"
     ]
    },
    {
     "name": "stdout",
     "output_type": "stream",
     "text": [
      ">acc=0.857, est=0.423, cfg={'activation': 'tanh', 'learning_rate': 'adaptive', 'solver': 'adam'}\n"
     ]
    },
    {
     "name": "stderr",
     "output_type": "stream",
     "text": [
      "C:\\Users\\vince\\anaconda3\\envs\\Python_DataMining\\lib\\site-packages\\sklearn\\neural_network\\_multilayer_perceptron.py:692: ConvergenceWarning: Stochastic Optimizer: Maximum iterations (200) reached and the optimization hasn't converged yet.\n",
      "  warnings.warn(\n"
     ]
    },
    {
     "name": "stdout",
     "output_type": "stream",
     "text": [
      ">acc=0.941, est=0.442, cfg={'activation': 'tanh', 'learning_rate': 'constant', 'solver': 'adam'}\n",
      "Classifier: MLPClassifier\n",
      "Vectorizer: w2v_cbow\n",
      "Mean Accuracy: 0.8661064425770307\n",
      "\n",
      ">acc=0.571, est=0.404, cfg={'leaf_size': 25, 'n_neighbors': 4}\n",
      ">acc=0.600, est=0.404, cfg={'leaf_size': 25, 'n_neighbors': 4}\n",
      ">acc=0.529, est=0.404, cfg={'leaf_size': 25, 'n_neighbors': 4}\n",
      "Classifier: KNeighborsClassifier\n",
      "Vectorizer: w2v_skipg\n",
      "Mean Accuracy: 0.5669467787114845\n",
      "\n",
      ">acc=0.743, est=0.288, cfg={'criterion': 'entropy', 'max_depth': 4}\n",
      ">acc=0.800, est=0.337, cfg={'criterion': 'entropy', 'max_depth': 4}\n",
      ">acc=0.735, est=0.279, cfg={'criterion': 'entropy', 'max_depth': 4}\n",
      "Classifier: DecisionTreeClassifier\n",
      "Vectorizer: w2v_skipg\n",
      "Mean Accuracy: 0.7593837535014005\n",
      "\n",
      ">acc=0.943, est=0.433, cfg={'var_smoothing': 0.0001}\n",
      ">acc=0.943, est=0.433, cfg={'var_smoothing': 0.0001}\n",
      ">acc=0.912, est=0.433, cfg={'var_smoothing': 0.0001}\n",
      "Classifier: GaussianNB\n",
      "Vectorizer: w2v_skipg\n",
      "Mean Accuracy: 0.9324929971988795\n",
      "\n",
      ">acc=1.000, est=0.490, cfg={'C': 10.0, 'gamma': 'scale', 'kernel': 'poly'}\n",
      ">acc=1.000, est=0.490, cfg={'C': 10.0, 'gamma': 'scale', 'kernel': 'poly'}\n",
      ">acc=1.000, est=0.490, cfg={'C': 10.0, 'gamma': 'scale', 'kernel': 'poly'}\n",
      "Classifier: SVC\n",
      "Vectorizer: w2v_skipg\n",
      "Mean Accuracy: 1.0\n",
      "\n"
     ]
    },
    {
     "name": "stderr",
     "output_type": "stream",
     "text": [
      "C:\\Users\\vince\\anaconda3\\envs\\Python_DataMining\\lib\\site-packages\\sklearn\\neural_network\\_multilayer_perceptron.py:692: ConvergenceWarning: Stochastic Optimizer: Maximum iterations (200) reached and the optimization hasn't converged yet.\n",
      "  warnings.warn(\n"
     ]
    },
    {
     "name": "stdout",
     "output_type": "stream",
     "text": [
      ">acc=0.829, est=0.394, cfg={'activation': 'relu', 'learning_rate': 'adaptive', 'solver': 'adam'}\n"
     ]
    },
    {
     "name": "stderr",
     "output_type": "stream",
     "text": [
      "C:\\Users\\vince\\anaconda3\\envs\\Python_DataMining\\lib\\site-packages\\sklearn\\neural_network\\_multilayer_perceptron.py:692: ConvergenceWarning: Stochastic Optimizer: Maximum iterations (200) reached and the optimization hasn't converged yet.\n",
      "  warnings.warn(\n"
     ]
    },
    {
     "name": "stdout",
     "output_type": "stream",
     "text": [
      ">acc=0.771, est=0.413, cfg={'activation': 'tanh', 'learning_rate': 'constant', 'solver': 'adam'}\n"
     ]
    },
    {
     "name": "stderr",
     "output_type": "stream",
     "text": [
      "C:\\Users\\vince\\anaconda3\\envs\\Python_DataMining\\lib\\site-packages\\sklearn\\neural_network\\_multilayer_perceptron.py:692: ConvergenceWarning: Stochastic Optimizer: Maximum iterations (200) reached and the optimization hasn't converged yet.\n",
      "  warnings.warn(\n"
     ]
    },
    {
     "name": "stdout",
     "output_type": "stream",
     "text": [
      ">acc=0.853, est=0.394, cfg={'activation': 'tanh', 'learning_rate': 'constant', 'solver': 'adam'}\n",
      "Classifier: MLPClassifier\n",
      "Vectorizer: w2v_skipg\n",
      "Mean Accuracy: 0.8176470588235295\n",
      "\n",
      ">acc=0.714, est=0.365, cfg={'leaf_size': 25, 'n_neighbors': 2}\n",
      ">acc=0.686, est=0.365, cfg={'leaf_size': 25, 'n_neighbors': 2}\n",
      ">acc=0.588, est=0.365, cfg={'leaf_size': 25, 'n_neighbors': 2}\n",
      "Classifier: KNeighborsClassifier\n",
      "Vectorizer: fasttext\n",
      "Mean Accuracy: 0.6627450980392157\n",
      "\n",
      ">acc=0.800, est=0.365, cfg={'criterion': 'gini', 'max_depth': 4}\n",
      ">acc=0.914, est=0.365, cfg={'criterion': 'entropy', 'max_depth': 5}\n",
      ">acc=0.941, est=0.365, cfg={'criterion': 'entropy', 'max_depth': 5}\n",
      "Classifier: DecisionTreeClassifier\n",
      "Vectorizer: fasttext\n",
      "Mean Accuracy: 0.8851540616246499\n",
      "\n",
      ">acc=0.771, est=0.510, cfg={'var_smoothing': 0.001}\n",
      ">acc=0.829, est=0.510, cfg={'var_smoothing': 0.001}\n",
      ">acc=0.824, est=0.510, cfg={'var_smoothing': 0.001}\n",
      "Classifier: GaussianNB\n",
      "Vectorizer: fasttext\n",
      "Mean Accuracy: 0.8078431372549021\n",
      "\n",
      ">acc=1.000, est=0.519, cfg={'C': 10.0, 'gamma': 'scale', 'kernel': 'rbf'}\n",
      ">acc=1.000, est=0.519, cfg={'C': 10.0, 'gamma': 'scale', 'kernel': 'rbf'}\n",
      ">acc=1.000, est=0.519, cfg={'C': 10.0, 'gamma': 'scale', 'kernel': 'rbf'}\n",
      "Classifier: SVC\n",
      "Vectorizer: fasttext\n",
      "Mean Accuracy: 1.0\n",
      "\n",
      ">acc=0.229, est=0.317, cfg={'activation': 'tanh', 'learning_rate': 'constant', 'solver': 'adam'}\n",
      ">acc=0.229, est=0.269, cfg={'activation': 'tanh', 'learning_rate': 'adaptive', 'solver': 'adam'}\n",
      ">acc=0.235, est=0.356, cfg={'activation': 'tanh', 'learning_rate': 'adaptive', 'solver': 'adam'}\n",
      "Classifier: MLPClassifier\n",
      "Vectorizer: fasttext\n",
      "Mean Accuracy: 0.23081232492997197\n",
      "\n",
      "\n",
      "The best performance is reached with the estimator GaussianNB and the vectorizer tfidf_vectors with an accuracy of 1.0\n"
     ]
    }
   ],
   "source": [
    "# tune for the best vectorizer-estimator combination\n",
    "def hyper_tune():\n",
    "    \n",
    "    kNeighbors_parameters = {\n",
    "        'leaf_size': range(25,35),\n",
    "        'n_neighbors': range(2, 9)\n",
    "    }\n",
    "    \n",
    "    decisionTree_parameters = {\n",
    "        'criterion':['gini', 'entropy'], \n",
    "        'max_depth':[ 2, 3, 4, 5, None]\n",
    "    }\n",
    "    \n",
    "    gaussianNB_parameters = {\n",
    "        'var_smoothing': [0.0001,0.001,0.01,0.1]\n",
    "    }\n",
    "    \n",
    "    svc_parameters = {\n",
    "        'C': [0.1, 1.0, 10.0],\n",
    "        'gamma': ['auto', 'scale'],\n",
    "        'kernel': ['rbf', 'poly', 'sigmoid']\n",
    "    }\n",
    "    \n",
    "    mlpClassifier_parameters = {\n",
    "        'learning_rate': ['constant', 'adaptive'],\n",
    "        'activation': ['tanh', 'relu'],\n",
    "        'solver': ['sgd', 'adam']\n",
    "    }\n",
    "    \n",
    "    \n",
    "    # ------ VECTORIZERS ------\n",
    "    train_tokens = get_train_tokens(train_data)\n",
    "    \n",
    "    #TODO: add the other matrices, when done\n",
    "    vectorizer_values = [\n",
    "        get_tfid_vectors(train_data), get_count_vectors(train_data),\n",
    "        get_w2v_cbow_embeddings(train_tokens), get_w2v_skipg_embeddings(train_tokens),\n",
    "        get_fasttext_embeddings(train_tokens)]\n",
    "    \n",
    "    vectorizers = dict(zip(vectorizer_names, vectorizer_values))\n",
    "    del train_tokens\n",
    "    \n",
    "    # ------ ESTIMATORS ------\n",
    "    #TODO: add more estimators\n",
    "    estimators = {\n",
    "        'KNeighborsClassifier': { 'name': 'KNeighborsClassifier', 'estimator': KNeighborsClassifier(), 'parameters': kNeighbors_parameters },\n",
    "        'DecisionTreeClassifier': { 'name': 'DecisionTreeClassifier', 'estimator': DecisionTreeClassifier(), 'parameters': decisionTree_parameters },\n",
    "        'GaussianNB': { 'name': 'GaussianNB', 'estimator': GaussianNB(), 'parameters': gaussianNB_parameters },\n",
    "        'SVC': { 'name': 'SVC', 'estimator': SVC(), 'parameters': svc_parameters },\n",
    "        'MLPClassifier': { 'name': 'MLPClassifier', 'estimator': MLPClassifier(), 'parameters': mlpClassifier_parameters }\n",
    "    }\n",
    "    \n",
    "    best_score = 0\n",
    "    for vectorizer in vectorizers:\n",
    "        for estimator in estimators:\n",
    "            \n",
    "            score, model = param_search( vectorizers[vectorizer], vectorizer, estimators[estimator] )\n",
    "            if score > best_score:\n",
    "                best_score = score\n",
    "                best_estimator_name = estimator\n",
    "                best_vectorizer_name = vectorizer\n",
    "                best_model = model\n",
    "\n",
    "    print(\"\\nThe best performance is reached with the estimator \" + best_estimator_name + \" and the vectorizer \" + best_vectorizer_name + \" with an accuracy of \" + str(best_score) )\n",
    "    return best_model, best_vectorizer_name\n",
    "\n",
    "\n",
    "#the best performing model and vectorizer\n",
    "model, vectorizer_name = hyper_tune()"
   ]
  },
  {
   "cell_type": "code",
   "execution_count": 32,
   "id": "bc63ae97",
   "metadata": {},
   "outputs": [
    {
     "data": {
      "image/png": "[encoded data removed]",
      "text/plain": [
       "<Figure size 432x288 with 1 Axes>"
      ]
     },
     "metadata": {
      "needs_background": "light"
     },
     "output_type": "display_data"
    },
    {
     "name": "stdout",
     "output_type": "stream",
     "text": [
      "0.9403399528778189\n"
     ]
    }
   ],
   "source": [
    "#Quick showcase, applying the model again on the training data\n",
    "\n",
    "#fractionize and undersample data\n",
    "train_data, train_target = balanced_fractionize(train_df, 0.1)\n",
    "\n",
    "vector_matrix = get_vectorMatrix(vectorizer_name, train_data)\n",
    "fitted_model = model.fit(vector_matrix, train_target['label'])\n",
    "predictions = fitted_model.predict(vector_matrix)\n",
    "\n",
    "# evaluate the model\n",
    "acc = accuracy_score(train_target, predictions)\n",
    "print(acc)\n",
    "\n",
    "#TODO: apply model on the test data and evaluate it"
   ]
  }
 ],
 "metadata": {
  "kernelspec": {
   "display_name": "Python 3 (ipykernel)",
   "language": "python",
   "name": "python3"
  },
  "language_info": {
   "codemirror_mode": {
    "name": "ipython",
    "version": 3
   },
   "file_extension": ".py",
   "mimetype": "text/x-python",
   "name": "python",
   "nbconvert_exporter": "python",
   "pygments_lexer": "ipython3",
   "version": "3.9.7"
  }
 },
 "nbformat": 4,
 "nbformat_minor": 5
}
